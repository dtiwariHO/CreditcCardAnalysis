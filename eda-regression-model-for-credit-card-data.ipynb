{
 "cells": [
  {
   "cell_type": "code",
   "execution_count": 1,
   "id": "fe3e0157",
   "metadata": {
    "_cell_guid": "b1076dfc-b9ad-4769-8c92-a6c4dae69d19",
    "_uuid": "8f2839f25d086af736a60e9eeb907d3b93b6e0e5",
    "execution": {
     "iopub.execute_input": "2024-08-15T21:07:02.441836Z",
     "iopub.status.busy": "2024-08-15T21:07:02.440943Z",
     "iopub.status.idle": "2024-08-15T21:07:03.353087Z",
     "shell.execute_reply": "2024-08-15T21:07:03.351778Z"
    },
    "papermill": {
     "duration": 0.93344,
     "end_time": "2024-08-15T21:07:03.355876",
     "exception": false,
     "start_time": "2024-08-15T21:07:02.422436",
     "status": "completed"
    },
    "tags": []
   },
   "outputs": [
    {
     "name": "stdout",
     "output_type": "stream",
     "text": [
      "/kaggle/input/creditcardfraud/creditcard.csv\n"
     ]
    }
   ],
   "source": [
    "# This Python 3 environment comes with many helpful analytics libraries installed\n",
    "# It is defined by the kaggle/python Docker image: https://github.com/kaggle/docker-python\n",
    "# For example, here's several helpful packages to load\n",
    "\n",
    "import numpy as np # linear algebra\n",
    "import pandas as pd # data processing, CSV file I/O (e.g. pd.read_csv)\n",
    "\n",
    "# Input data files are available in the read-only \"../input/\" directory\n",
    "# For example, running this (by clicking run or pressing Shift+Enter) will list all files under the input directory\n",
    "\n",
    "import os\n",
    "for dirname, _, filenames in os.walk('/kaggle/input'):\n",
    "    for filename in filenames:\n",
    "        print(os.path.join(dirname, filename))\n",
    "\n",
    "# You can write up to 20GB to the current directory (/kaggle/working/) that gets preserved as output when you create a version using \"Save & Run All\" \n",
    "# You can also write temporary files to /kaggle/temp/, but they won't be saved outside of the current session"
   ]
  },
  {
   "cell_type": "code",
   "execution_count": 2,
   "id": "0db07952",
   "metadata": {
    "execution": {
     "iopub.execute_input": "2024-08-15T21:07:03.389313Z",
     "iopub.status.busy": "2024-08-15T21:07:03.388294Z",
     "iopub.status.idle": "2024-08-15T21:07:04.654652Z",
     "shell.execute_reply": "2024-08-15T21:07:04.653519Z"
    },
    "papermill": {
     "duration": 1.286011,
     "end_time": "2024-08-15T21:07:04.657569",
     "exception": false,
     "start_time": "2024-08-15T21:07:03.371558",
     "status": "completed"
    },
    "tags": []
   },
   "outputs": [],
   "source": [
    "import pandas as pd\n",
    "import numpy as np\n",
    "import matplotlib.pyplot as plt\n",
    "import seaborn as sns\n",
    "%matplotlib inline"
   ]
  },
  {
   "cell_type": "code",
   "execution_count": 3,
   "id": "b440feed",
   "metadata": {
    "execution": {
     "iopub.execute_input": "2024-08-15T21:07:04.692482Z",
     "iopub.status.busy": "2024-08-15T21:07:04.692106Z",
     "iopub.status.idle": "2024-08-15T21:07:08.806400Z",
     "shell.execute_reply": "2024-08-15T21:07:08.805092Z"
    },
    "papermill": {
     "duration": 4.134264,
     "end_time": "2024-08-15T21:07:08.809443",
     "exception": false,
     "start_time": "2024-08-15T21:07:04.675179",
     "status": "completed"
    },
    "tags": []
   },
   "outputs": [],
   "source": [
    "data = pd.read_csv('C:/project_info/scea5/MS_DS/ms_ds_bu/module 0/module_0_workspace_test/CreditcCardAnalysis/data/creditcard.csv')"
   ]
  },
  {
   "cell_type": "code",
   "execution_count": 4,
   "id": "c44c776b",
   "metadata": {
    "execution": {
     "iopub.execute_input": "2024-08-15T21:07:08.847704Z",
     "iopub.status.busy": "2024-08-15T21:07:08.847285Z",
     "iopub.status.idle": "2024-08-15T21:07:08.887262Z",
     "shell.execute_reply": "2024-08-15T21:07:08.886188Z"
    },
    "papermill": {
     "duration": 0.059673,
     "end_time": "2024-08-15T21:07:08.889626",
     "exception": false,
     "start_time": "2024-08-15T21:07:08.829953",
     "status": "completed"
    },
    "tags": []
   },
   "outputs": [
    {
     "data": {
      "text/html": [
       "<div>\n",
       "<style scoped>\n",
       "    .dataframe tbody tr th:only-of-type {\n",
       "        vertical-align: middle;\n",
       "    }\n",
       "\n",
       "    .dataframe tbody tr th {\n",
       "        vertical-align: top;\n",
       "    }\n",
       "\n",
       "    .dataframe thead th {\n",
       "        text-align: right;\n",
       "    }\n",
       "</style>\n",
       "<table border=\"1\" class=\"dataframe\">\n",
       "  <thead>\n",
       "    <tr style=\"text-align: right;\">\n",
       "      <th></th>\n",
       "      <th>Time</th>\n",
       "      <th>V1</th>\n",
       "      <th>V2</th>\n",
       "      <th>V3</th>\n",
       "      <th>V4</th>\n",
       "      <th>V5</th>\n",
       "      <th>V6</th>\n",
       "      <th>V7</th>\n",
       "      <th>V8</th>\n",
       "      <th>V9</th>\n",
       "      <th>...</th>\n",
       "      <th>V21</th>\n",
       "      <th>V22</th>\n",
       "      <th>V23</th>\n",
       "      <th>V24</th>\n",
       "      <th>V25</th>\n",
       "      <th>V26</th>\n",
       "      <th>V27</th>\n",
       "      <th>V28</th>\n",
       "      <th>Amount</th>\n",
       "      <th>Class</th>\n",
       "    </tr>\n",
       "  </thead>\n",
       "  <tbody>\n",
       "    <tr>\n",
       "      <th>0</th>\n",
       "      <td>0.0</td>\n",
       "      <td>-1.359807</td>\n",
       "      <td>-0.072781</td>\n",
       "      <td>2.536347</td>\n",
       "      <td>1.378155</td>\n",
       "      <td>-0.338321</td>\n",
       "      <td>0.462388</td>\n",
       "      <td>0.239599</td>\n",
       "      <td>0.098698</td>\n",
       "      <td>0.363787</td>\n",
       "      <td>...</td>\n",
       "      <td>-0.018307</td>\n",
       "      <td>0.277838</td>\n",
       "      <td>-0.110474</td>\n",
       "      <td>0.066928</td>\n",
       "      <td>0.128539</td>\n",
       "      <td>-0.189115</td>\n",
       "      <td>0.133558</td>\n",
       "      <td>-0.021053</td>\n",
       "      <td>149.62</td>\n",
       "      <td>0</td>\n",
       "    </tr>\n",
       "    <tr>\n",
       "      <th>1</th>\n",
       "      <td>0.0</td>\n",
       "      <td>1.191857</td>\n",
       "      <td>0.266151</td>\n",
       "      <td>0.166480</td>\n",
       "      <td>0.448154</td>\n",
       "      <td>0.060018</td>\n",
       "      <td>-0.082361</td>\n",
       "      <td>-0.078803</td>\n",
       "      <td>0.085102</td>\n",
       "      <td>-0.255425</td>\n",
       "      <td>...</td>\n",
       "      <td>-0.225775</td>\n",
       "      <td>-0.638672</td>\n",
       "      <td>0.101288</td>\n",
       "      <td>-0.339846</td>\n",
       "      <td>0.167170</td>\n",
       "      <td>0.125895</td>\n",
       "      <td>-0.008983</td>\n",
       "      <td>0.014724</td>\n",
       "      <td>2.69</td>\n",
       "      <td>0</td>\n",
       "    </tr>\n",
       "    <tr>\n",
       "      <th>2</th>\n",
       "      <td>1.0</td>\n",
       "      <td>-1.358354</td>\n",
       "      <td>-1.340163</td>\n",
       "      <td>1.773209</td>\n",
       "      <td>0.379780</td>\n",
       "      <td>-0.503198</td>\n",
       "      <td>1.800499</td>\n",
       "      <td>0.791461</td>\n",
       "      <td>0.247676</td>\n",
       "      <td>-1.514654</td>\n",
       "      <td>...</td>\n",
       "      <td>0.247998</td>\n",
       "      <td>0.771679</td>\n",
       "      <td>0.909412</td>\n",
       "      <td>-0.689281</td>\n",
       "      <td>-0.327642</td>\n",
       "      <td>-0.139097</td>\n",
       "      <td>-0.055353</td>\n",
       "      <td>-0.059752</td>\n",
       "      <td>378.66</td>\n",
       "      <td>0</td>\n",
       "    </tr>\n",
       "    <tr>\n",
       "      <th>3</th>\n",
       "      <td>1.0</td>\n",
       "      <td>-0.966272</td>\n",
       "      <td>-0.185226</td>\n",
       "      <td>1.792993</td>\n",
       "      <td>-0.863291</td>\n",
       "      <td>-0.010309</td>\n",
       "      <td>1.247203</td>\n",
       "      <td>0.237609</td>\n",
       "      <td>0.377436</td>\n",
       "      <td>-1.387024</td>\n",
       "      <td>...</td>\n",
       "      <td>-0.108300</td>\n",
       "      <td>0.005274</td>\n",
       "      <td>-0.190321</td>\n",
       "      <td>-1.175575</td>\n",
       "      <td>0.647376</td>\n",
       "      <td>-0.221929</td>\n",
       "      <td>0.062723</td>\n",
       "      <td>0.061458</td>\n",
       "      <td>123.50</td>\n",
       "      <td>0</td>\n",
       "    </tr>\n",
       "    <tr>\n",
       "      <th>4</th>\n",
       "      <td>2.0</td>\n",
       "      <td>-1.158233</td>\n",
       "      <td>0.877737</td>\n",
       "      <td>1.548718</td>\n",
       "      <td>0.403034</td>\n",
       "      <td>-0.407193</td>\n",
       "      <td>0.095921</td>\n",
       "      <td>0.592941</td>\n",
       "      <td>-0.270533</td>\n",
       "      <td>0.817739</td>\n",
       "      <td>...</td>\n",
       "      <td>-0.009431</td>\n",
       "      <td>0.798278</td>\n",
       "      <td>-0.137458</td>\n",
       "      <td>0.141267</td>\n",
       "      <td>-0.206010</td>\n",
       "      <td>0.502292</td>\n",
       "      <td>0.219422</td>\n",
       "      <td>0.215153</td>\n",
       "      <td>69.99</td>\n",
       "      <td>0</td>\n",
       "    </tr>\n",
       "  </tbody>\n",
       "</table>\n",
       "<p>5 rows × 31 columns</p>\n",
       "</div>"
      ],
      "text/plain": [
       "   Time        V1        V2        V3        V4        V5        V6        V7  \\\n",
       "0   0.0 -1.359807 -0.072781  2.536347  1.378155 -0.338321  0.462388  0.239599   \n",
       "1   0.0  1.191857  0.266151  0.166480  0.448154  0.060018 -0.082361 -0.078803   \n",
       "2   1.0 -1.358354 -1.340163  1.773209  0.379780 -0.503198  1.800499  0.791461   \n",
       "3   1.0 -0.966272 -0.185226  1.792993 -0.863291 -0.010309  1.247203  0.237609   \n",
       "4   2.0 -1.158233  0.877737  1.548718  0.403034 -0.407193  0.095921  0.592941   \n",
       "\n",
       "         V8        V9  ...       V21       V22       V23       V24       V25  \\\n",
       "0  0.098698  0.363787  ... -0.018307  0.277838 -0.110474  0.066928  0.128539   \n",
       "1  0.085102 -0.255425  ... -0.225775 -0.638672  0.101288 -0.339846  0.167170   \n",
       "2  0.247676 -1.514654  ...  0.247998  0.771679  0.909412 -0.689281 -0.327642   \n",
       "3  0.377436 -1.387024  ... -0.108300  0.005274 -0.190321 -1.175575  0.647376   \n",
       "4 -0.270533  0.817739  ... -0.009431  0.798278 -0.137458  0.141267 -0.206010   \n",
       "\n",
       "        V26       V27       V28  Amount  Class  \n",
       "0 -0.189115  0.133558 -0.021053  149.62      0  \n",
       "1  0.125895 -0.008983  0.014724    2.69      0  \n",
       "2 -0.139097 -0.055353 -0.059752  378.66      0  \n",
       "3 -0.221929  0.062723  0.061458  123.50      0  \n",
       "4  0.502292  0.219422  0.215153   69.99      0  \n",
       "\n",
       "[5 rows x 31 columns]"
      ]
     },
     "execution_count": 4,
     "metadata": {},
     "output_type": "execute_result"
    }
   ],
   "source": [
    "data.head()"
   ]
  },
  {
   "cell_type": "code",
   "execution_count": 5,
   "id": "191d7019",
   "metadata": {
    "execution": {
     "iopub.execute_input": "2024-08-15T21:07:08.924095Z",
     "iopub.status.busy": "2024-08-15T21:07:08.923691Z",
     "iopub.status.idle": "2024-08-15T21:07:09.409922Z",
     "shell.execute_reply": "2024-08-15T21:07:09.408841Z"
    },
    "papermill": {
     "duration": 0.506089,
     "end_time": "2024-08-15T21:07:09.412660",
     "exception": false,
     "start_time": "2024-08-15T21:07:08.906571",
     "status": "completed"
    },
    "tags": []
   },
   "outputs": [
    {
     "data": {
      "text/html": [
       "<div>\n",
       "<style scoped>\n",
       "    .dataframe tbody tr th:only-of-type {\n",
       "        vertical-align: middle;\n",
       "    }\n",
       "\n",
       "    .dataframe tbody tr th {\n",
       "        vertical-align: top;\n",
       "    }\n",
       "\n",
       "    .dataframe thead th {\n",
       "        text-align: right;\n",
       "    }\n",
       "</style>\n",
       "<table border=\"1\" class=\"dataframe\">\n",
       "  <thead>\n",
       "    <tr style=\"text-align: right;\">\n",
       "      <th></th>\n",
       "      <th>Time</th>\n",
       "      <th>V1</th>\n",
       "      <th>V2</th>\n",
       "      <th>V3</th>\n",
       "      <th>V4</th>\n",
       "      <th>V5</th>\n",
       "      <th>V6</th>\n",
       "      <th>V7</th>\n",
       "      <th>V8</th>\n",
       "      <th>V9</th>\n",
       "      <th>...</th>\n",
       "      <th>V21</th>\n",
       "      <th>V22</th>\n",
       "      <th>V23</th>\n",
       "      <th>V24</th>\n",
       "      <th>V25</th>\n",
       "      <th>V26</th>\n",
       "      <th>V27</th>\n",
       "      <th>V28</th>\n",
       "      <th>Amount</th>\n",
       "      <th>Class</th>\n",
       "    </tr>\n",
       "  </thead>\n",
       "  <tbody>\n",
       "    <tr>\n",
       "      <th>count</th>\n",
       "      <td>284807.000000</td>\n",
       "      <td>2.848070e+05</td>\n",
       "      <td>2.848070e+05</td>\n",
       "      <td>2.848070e+05</td>\n",
       "      <td>2.848070e+05</td>\n",
       "      <td>2.848070e+05</td>\n",
       "      <td>2.848070e+05</td>\n",
       "      <td>2.848070e+05</td>\n",
       "      <td>2.848070e+05</td>\n",
       "      <td>2.848070e+05</td>\n",
       "      <td>...</td>\n",
       "      <td>2.848070e+05</td>\n",
       "      <td>2.848070e+05</td>\n",
       "      <td>2.848070e+05</td>\n",
       "      <td>2.848070e+05</td>\n",
       "      <td>2.848070e+05</td>\n",
       "      <td>2.848070e+05</td>\n",
       "      <td>2.848070e+05</td>\n",
       "      <td>2.848070e+05</td>\n",
       "      <td>284807.000000</td>\n",
       "      <td>284807.000000</td>\n",
       "    </tr>\n",
       "    <tr>\n",
       "      <th>mean</th>\n",
       "      <td>94813.859575</td>\n",
       "      <td>1.168375e-15</td>\n",
       "      <td>3.416908e-16</td>\n",
       "      <td>-1.379537e-15</td>\n",
       "      <td>2.074095e-15</td>\n",
       "      <td>9.604066e-16</td>\n",
       "      <td>1.487313e-15</td>\n",
       "      <td>-5.556467e-16</td>\n",
       "      <td>1.213481e-16</td>\n",
       "      <td>-2.406331e-15</td>\n",
       "      <td>...</td>\n",
       "      <td>1.654067e-16</td>\n",
       "      <td>-3.568593e-16</td>\n",
       "      <td>2.578648e-16</td>\n",
       "      <td>4.473266e-15</td>\n",
       "      <td>5.340915e-16</td>\n",
       "      <td>1.683437e-15</td>\n",
       "      <td>-3.660091e-16</td>\n",
       "      <td>-1.227390e-16</td>\n",
       "      <td>88.349619</td>\n",
       "      <td>0.001727</td>\n",
       "    </tr>\n",
       "    <tr>\n",
       "      <th>std</th>\n",
       "      <td>47488.145955</td>\n",
       "      <td>1.958696e+00</td>\n",
       "      <td>1.651309e+00</td>\n",
       "      <td>1.516255e+00</td>\n",
       "      <td>1.415869e+00</td>\n",
       "      <td>1.380247e+00</td>\n",
       "      <td>1.332271e+00</td>\n",
       "      <td>1.237094e+00</td>\n",
       "      <td>1.194353e+00</td>\n",
       "      <td>1.098632e+00</td>\n",
       "      <td>...</td>\n",
       "      <td>7.345240e-01</td>\n",
       "      <td>7.257016e-01</td>\n",
       "      <td>6.244603e-01</td>\n",
       "      <td>6.056471e-01</td>\n",
       "      <td>5.212781e-01</td>\n",
       "      <td>4.822270e-01</td>\n",
       "      <td>4.036325e-01</td>\n",
       "      <td>3.300833e-01</td>\n",
       "      <td>250.120109</td>\n",
       "      <td>0.041527</td>\n",
       "    </tr>\n",
       "    <tr>\n",
       "      <th>min</th>\n",
       "      <td>0.000000</td>\n",
       "      <td>-5.640751e+01</td>\n",
       "      <td>-7.271573e+01</td>\n",
       "      <td>-4.832559e+01</td>\n",
       "      <td>-5.683171e+00</td>\n",
       "      <td>-1.137433e+02</td>\n",
       "      <td>-2.616051e+01</td>\n",
       "      <td>-4.355724e+01</td>\n",
       "      <td>-7.321672e+01</td>\n",
       "      <td>-1.343407e+01</td>\n",
       "      <td>...</td>\n",
       "      <td>-3.483038e+01</td>\n",
       "      <td>-1.093314e+01</td>\n",
       "      <td>-4.480774e+01</td>\n",
       "      <td>-2.836627e+00</td>\n",
       "      <td>-1.029540e+01</td>\n",
       "      <td>-2.604551e+00</td>\n",
       "      <td>-2.256568e+01</td>\n",
       "      <td>-1.543008e+01</td>\n",
       "      <td>0.000000</td>\n",
       "      <td>0.000000</td>\n",
       "    </tr>\n",
       "    <tr>\n",
       "      <th>25%</th>\n",
       "      <td>54201.500000</td>\n",
       "      <td>-9.203734e-01</td>\n",
       "      <td>-5.985499e-01</td>\n",
       "      <td>-8.903648e-01</td>\n",
       "      <td>-8.486401e-01</td>\n",
       "      <td>-6.915971e-01</td>\n",
       "      <td>-7.682956e-01</td>\n",
       "      <td>-5.540759e-01</td>\n",
       "      <td>-2.086297e-01</td>\n",
       "      <td>-6.430976e-01</td>\n",
       "      <td>...</td>\n",
       "      <td>-2.283949e-01</td>\n",
       "      <td>-5.423504e-01</td>\n",
       "      <td>-1.618463e-01</td>\n",
       "      <td>-3.545861e-01</td>\n",
       "      <td>-3.171451e-01</td>\n",
       "      <td>-3.269839e-01</td>\n",
       "      <td>-7.083953e-02</td>\n",
       "      <td>-5.295979e-02</td>\n",
       "      <td>5.600000</td>\n",
       "      <td>0.000000</td>\n",
       "    </tr>\n",
       "    <tr>\n",
       "      <th>50%</th>\n",
       "      <td>84692.000000</td>\n",
       "      <td>1.810880e-02</td>\n",
       "      <td>6.548556e-02</td>\n",
       "      <td>1.798463e-01</td>\n",
       "      <td>-1.984653e-02</td>\n",
       "      <td>-5.433583e-02</td>\n",
       "      <td>-2.741871e-01</td>\n",
       "      <td>4.010308e-02</td>\n",
       "      <td>2.235804e-02</td>\n",
       "      <td>-5.142873e-02</td>\n",
       "      <td>...</td>\n",
       "      <td>-2.945017e-02</td>\n",
       "      <td>6.781943e-03</td>\n",
       "      <td>-1.119293e-02</td>\n",
       "      <td>4.097606e-02</td>\n",
       "      <td>1.659350e-02</td>\n",
       "      <td>-5.213911e-02</td>\n",
       "      <td>1.342146e-03</td>\n",
       "      <td>1.124383e-02</td>\n",
       "      <td>22.000000</td>\n",
       "      <td>0.000000</td>\n",
       "    </tr>\n",
       "    <tr>\n",
       "      <th>75%</th>\n",
       "      <td>139320.500000</td>\n",
       "      <td>1.315642e+00</td>\n",
       "      <td>8.037239e-01</td>\n",
       "      <td>1.027196e+00</td>\n",
       "      <td>7.433413e-01</td>\n",
       "      <td>6.119264e-01</td>\n",
       "      <td>3.985649e-01</td>\n",
       "      <td>5.704361e-01</td>\n",
       "      <td>3.273459e-01</td>\n",
       "      <td>5.971390e-01</td>\n",
       "      <td>...</td>\n",
       "      <td>1.863772e-01</td>\n",
       "      <td>5.285536e-01</td>\n",
       "      <td>1.476421e-01</td>\n",
       "      <td>4.395266e-01</td>\n",
       "      <td>3.507156e-01</td>\n",
       "      <td>2.409522e-01</td>\n",
       "      <td>9.104512e-02</td>\n",
       "      <td>7.827995e-02</td>\n",
       "      <td>77.165000</td>\n",
       "      <td>0.000000</td>\n",
       "    </tr>\n",
       "    <tr>\n",
       "      <th>max</th>\n",
       "      <td>172792.000000</td>\n",
       "      <td>2.454930e+00</td>\n",
       "      <td>2.205773e+01</td>\n",
       "      <td>9.382558e+00</td>\n",
       "      <td>1.687534e+01</td>\n",
       "      <td>3.480167e+01</td>\n",
       "      <td>7.330163e+01</td>\n",
       "      <td>1.205895e+02</td>\n",
       "      <td>2.000721e+01</td>\n",
       "      <td>1.559499e+01</td>\n",
       "      <td>...</td>\n",
       "      <td>2.720284e+01</td>\n",
       "      <td>1.050309e+01</td>\n",
       "      <td>2.252841e+01</td>\n",
       "      <td>4.584549e+00</td>\n",
       "      <td>7.519589e+00</td>\n",
       "      <td>3.517346e+00</td>\n",
       "      <td>3.161220e+01</td>\n",
       "      <td>3.384781e+01</td>\n",
       "      <td>25691.160000</td>\n",
       "      <td>1.000000</td>\n",
       "    </tr>\n",
       "  </tbody>\n",
       "</table>\n",
       "<p>8 rows × 31 columns</p>\n",
       "</div>"
      ],
      "text/plain": [
       "                Time            V1            V2            V3            V4  \\\n",
       "count  284807.000000  2.848070e+05  2.848070e+05  2.848070e+05  2.848070e+05   \n",
       "mean    94813.859575  1.168375e-15  3.416908e-16 -1.379537e-15  2.074095e-15   \n",
       "std     47488.145955  1.958696e+00  1.651309e+00  1.516255e+00  1.415869e+00   \n",
       "min         0.000000 -5.640751e+01 -7.271573e+01 -4.832559e+01 -5.683171e+00   \n",
       "25%     54201.500000 -9.203734e-01 -5.985499e-01 -8.903648e-01 -8.486401e-01   \n",
       "50%     84692.000000  1.810880e-02  6.548556e-02  1.798463e-01 -1.984653e-02   \n",
       "75%    139320.500000  1.315642e+00  8.037239e-01  1.027196e+00  7.433413e-01   \n",
       "max    172792.000000  2.454930e+00  2.205773e+01  9.382558e+00  1.687534e+01   \n",
       "\n",
       "                 V5            V6            V7            V8            V9  \\\n",
       "count  2.848070e+05  2.848070e+05  2.848070e+05  2.848070e+05  2.848070e+05   \n",
       "mean   9.604066e-16  1.487313e-15 -5.556467e-16  1.213481e-16 -2.406331e-15   \n",
       "std    1.380247e+00  1.332271e+00  1.237094e+00  1.194353e+00  1.098632e+00   \n",
       "min   -1.137433e+02 -2.616051e+01 -4.355724e+01 -7.321672e+01 -1.343407e+01   \n",
       "25%   -6.915971e-01 -7.682956e-01 -5.540759e-01 -2.086297e-01 -6.430976e-01   \n",
       "50%   -5.433583e-02 -2.741871e-01  4.010308e-02  2.235804e-02 -5.142873e-02   \n",
       "75%    6.119264e-01  3.985649e-01  5.704361e-01  3.273459e-01  5.971390e-01   \n",
       "max    3.480167e+01  7.330163e+01  1.205895e+02  2.000721e+01  1.559499e+01   \n",
       "\n",
       "       ...           V21           V22           V23           V24  \\\n",
       "count  ...  2.848070e+05  2.848070e+05  2.848070e+05  2.848070e+05   \n",
       "mean   ...  1.654067e-16 -3.568593e-16  2.578648e-16  4.473266e-15   \n",
       "std    ...  7.345240e-01  7.257016e-01  6.244603e-01  6.056471e-01   \n",
       "min    ... -3.483038e+01 -1.093314e+01 -4.480774e+01 -2.836627e+00   \n",
       "25%    ... -2.283949e-01 -5.423504e-01 -1.618463e-01 -3.545861e-01   \n",
       "50%    ... -2.945017e-02  6.781943e-03 -1.119293e-02  4.097606e-02   \n",
       "75%    ...  1.863772e-01  5.285536e-01  1.476421e-01  4.395266e-01   \n",
       "max    ...  2.720284e+01  1.050309e+01  2.252841e+01  4.584549e+00   \n",
       "\n",
       "                V25           V26           V27           V28         Amount  \\\n",
       "count  2.848070e+05  2.848070e+05  2.848070e+05  2.848070e+05  284807.000000   \n",
       "mean   5.340915e-16  1.683437e-15 -3.660091e-16 -1.227390e-16      88.349619   \n",
       "std    5.212781e-01  4.822270e-01  4.036325e-01  3.300833e-01     250.120109   \n",
       "min   -1.029540e+01 -2.604551e+00 -2.256568e+01 -1.543008e+01       0.000000   \n",
       "25%   -3.171451e-01 -3.269839e-01 -7.083953e-02 -5.295979e-02       5.600000   \n",
       "50%    1.659350e-02 -5.213911e-02  1.342146e-03  1.124383e-02      22.000000   \n",
       "75%    3.507156e-01  2.409522e-01  9.104512e-02  7.827995e-02      77.165000   \n",
       "max    7.519589e+00  3.517346e+00  3.161220e+01  3.384781e+01   25691.160000   \n",
       "\n",
       "               Class  \n",
       "count  284807.000000  \n",
       "mean        0.001727  \n",
       "std         0.041527  \n",
       "min         0.000000  \n",
       "25%         0.000000  \n",
       "50%         0.000000  \n",
       "75%         0.000000  \n",
       "max         1.000000  \n",
       "\n",
       "[8 rows x 31 columns]"
      ]
     },
     "execution_count": 5,
     "metadata": {},
     "output_type": "execute_result"
    }
   ],
   "source": [
    "data.describe()"
   ]
  },
  {
   "cell_type": "code",
   "execution_count": 6,
   "id": "ef60930f",
   "metadata": {
    "execution": {
     "iopub.execute_input": "2024-08-15T21:07:09.447105Z",
     "iopub.status.busy": "2024-08-15T21:07:09.446721Z",
     "iopub.status.idle": "2024-08-15T21:07:09.481332Z",
     "shell.execute_reply": "2024-08-15T21:07:09.480106Z"
    },
    "papermill": {
     "duration": 0.055138,
     "end_time": "2024-08-15T21:07:09.484100",
     "exception": false,
     "start_time": "2024-08-15T21:07:09.428962",
     "status": "completed"
    },
    "tags": []
   },
   "outputs": [
    {
     "name": "stdout",
     "output_type": "stream",
     "text": [
      "<class 'pandas.core.frame.DataFrame'>\n",
      "RangeIndex: 284807 entries, 0 to 284806\n",
      "Data columns (total 31 columns):\n",
      " #   Column  Non-Null Count   Dtype  \n",
      "---  ------  --------------   -----  \n",
      " 0   Time    284807 non-null  float64\n",
      " 1   V1      284807 non-null  float64\n",
      " 2   V2      284807 non-null  float64\n",
      " 3   V3      284807 non-null  float64\n",
      " 4   V4      284807 non-null  float64\n",
      " 5   V5      284807 non-null  float64\n",
      " 6   V6      284807 non-null  float64\n",
      " 7   V7      284807 non-null  float64\n",
      " 8   V8      284807 non-null  float64\n",
      " 9   V9      284807 non-null  float64\n",
      " 10  V10     284807 non-null  float64\n",
      " 11  V11     284807 non-null  float64\n",
      " 12  V12     284807 non-null  float64\n",
      " 13  V13     284807 non-null  float64\n",
      " 14  V14     284807 non-null  float64\n",
      " 15  V15     284807 non-null  float64\n",
      " 16  V16     284807 non-null  float64\n",
      " 17  V17     284807 non-null  float64\n",
      " 18  V18     284807 non-null  float64\n",
      " 19  V19     284807 non-null  float64\n",
      " 20  V20     284807 non-null  float64\n",
      " 21  V21     284807 non-null  float64\n",
      " 22  V22     284807 non-null  float64\n",
      " 23  V23     284807 non-null  float64\n",
      " 24  V24     284807 non-null  float64\n",
      " 25  V25     284807 non-null  float64\n",
      " 26  V26     284807 non-null  float64\n",
      " 27  V27     284807 non-null  float64\n",
      " 28  V28     284807 non-null  float64\n",
      " 29  Amount  284807 non-null  float64\n",
      " 30  Class   284807 non-null  int64  \n",
      "dtypes: float64(30), int64(1)\n",
      "memory usage: 67.4 MB\n"
     ]
    }
   ],
   "source": [
    "data.info()"
   ]
  },
  {
   "cell_type": "code",
   "execution_count": 7,
   "id": "2eee604c",
   "metadata": {
    "execution": {
     "iopub.execute_input": "2024-08-15T21:07:09.520249Z",
     "iopub.status.busy": "2024-08-15T21:07:09.519348Z",
     "iopub.status.idle": "2024-08-15T21:07:22.114278Z",
     "shell.execute_reply": "2024-08-15T21:07:22.113231Z"
    },
    "papermill": {
     "duration": 12.615931,
     "end_time": "2024-08-15T21:07:22.116682",
     "exception": false,
     "start_time": "2024-08-15T21:07:09.500751",
     "status": "completed"
    },
    "tags": []
   },
   "outputs": [
    {
     "data": {
      "text/plain": [
       "<Axes: >"
      ]
     },
     "execution_count": 7,
     "metadata": {},
     "output_type": "execute_result"
    },
    {
     "data": {
      "image/png": "[encoded data removed]",
      "text/plain": [
       "<Figure size 640x480 with 1 Axes>"
      ]
     },
     "metadata": {},
     "output_type": "display_data"
    }
   ],
   "source": [
    "sns.heatmap(data.isnull(),yticklabels=False,cbar=False,cmap='viridis')"
   ]
  },
  {
   "cell_type": "code",
   "execution_count": 8,
   "id": "685873d7",
   "metadata": {
    "execution": {
     "iopub.execute_input": "2024-08-15T21:07:22.152910Z",
     "iopub.status.busy": "2024-08-15T21:07:22.152466Z",
     "iopub.status.idle": "2024-08-15T21:07:22.434308Z",
     "shell.execute_reply": "2024-08-15T21:07:22.432593Z"
    },
    "papermill": {
     "duration": 0.30296,
     "end_time": "2024-08-15T21:07:22.436893",
     "exception": false,
     "start_time": "2024-08-15T21:07:22.133933",
     "status": "completed"
    },
    "tags": []
   },
   "outputs": [
    {
     "data": {
      "text/plain": [
       "<Axes: xlabel='Class', ylabel='count'>"
      ]
     },
     "execution_count": 8,
     "metadata": {},
     "output_type": "execute_result"
    },
    {
     "data": {
      "image/png": "[encoded data removed]",
      "text/plain": [
       "<Figure size 640x480 with 1 Axes>"
      ]
     },
     "metadata": {},
     "output_type": "display_data"
    }
   ],
   "source": [
    "sns.set_style('whitegrid')\n",
    "sns.countplot(x='Class',data=data,palette='RdBu_r')"
   ]
  },
  {
   "cell_type": "code",
   "execution_count": 9,
   "id": "6f2fa2d7",
   "metadata": {
    "execution": {
     "iopub.execute_input": "2024-08-15T21:07:22.474817Z",
     "iopub.status.busy": "2024-08-15T21:07:22.474393Z",
     "iopub.status.idle": "2024-08-15T21:07:22.496040Z",
     "shell.execute_reply": "2024-08-15T21:07:22.494933Z"
    },
    "papermill": {
     "duration": 0.04326,
     "end_time": "2024-08-15T21:07:22.498656",
     "exception": false,
     "start_time": "2024-08-15T21:07:22.455396",
     "status": "completed"
    },
    "tags": []
   },
   "outputs": [
    {
     "data": {
      "text/plain": [
       "Time      0\n",
       "V1        0\n",
       "V2        0\n",
       "V3        0\n",
       "V4        0\n",
       "V5        0\n",
       "V6        0\n",
       "V7        0\n",
       "V8        0\n",
       "V9        0\n",
       "V10       0\n",
       "V11       0\n",
       "V12       0\n",
       "V13       0\n",
       "V14       0\n",
       "V15       0\n",
       "V16       0\n",
       "V17       0\n",
       "V18       0\n",
       "V19       0\n",
       "V20       0\n",
       "V21       0\n",
       "V22       0\n",
       "V23       0\n",
       "V24       0\n",
       "V25       0\n",
       "V26       0\n",
       "V27       0\n",
       "V28       0\n",
       "Amount    0\n",
       "Class     0\n",
       "dtype: int64"
      ]
     },
     "execution_count": 9,
     "metadata": {},
     "output_type": "execute_result"
    }
   ],
   "source": [
    "data.isnull().sum()"
   ]
  },
  {
   "cell_type": "code",
   "execution_count": 10,
   "id": "4bf83a72",
   "metadata": {
    "execution": {
     "iopub.execute_input": "2024-08-15T21:07:22.536039Z",
     "iopub.status.busy": "2024-08-15T21:07:22.535653Z",
     "iopub.status.idle": "2024-08-15T21:07:22.694976Z",
     "shell.execute_reply": "2024-08-15T21:07:22.693838Z"
    },
    "papermill": {
     "duration": 0.18134,
     "end_time": "2024-08-15T21:07:22.697739",
     "exception": false,
     "start_time": "2024-08-15T21:07:22.516399",
     "status": "completed"
    },
    "tags": []
   },
   "outputs": [],
   "source": [
    "from sklearn.preprocessing import StandardScaler"
   ]
  },
  {
   "cell_type": "code",
   "execution_count": 11,
   "id": "450b7d76",
   "metadata": {
    "execution": {
     "iopub.execute_input": "2024-08-15T21:07:22.736012Z",
     "iopub.status.busy": "2024-08-15T21:07:22.735470Z",
     "iopub.status.idle": "2024-08-15T21:07:22.748810Z",
     "shell.execute_reply": "2024-08-15T21:07:22.747420Z"
    },
    "papermill": {
     "duration": 0.035918,
     "end_time": "2024-08-15T21:07:22.751569",
     "exception": false,
     "start_time": "2024-08-15T21:07:22.715651",
     "status": "completed"
    },
    "tags": []
   },
   "outputs": [],
   "source": [
    "sc = StandardScaler()\n",
    "data['Amount'] = sc.fit_transform(pd.DataFrame(data['Amount']))"
   ]
  },
  {
   "cell_type": "code",
   "execution_count": 12,
   "id": "1ab3bb0a",
   "metadata": {
    "execution": {
     "iopub.execute_input": "2024-08-15T21:07:22.789138Z",
     "iopub.status.busy": "2024-08-15T21:07:22.788253Z",
     "iopub.status.idle": "2024-08-15T21:07:22.818024Z",
     "shell.execute_reply": "2024-08-15T21:07:22.816856Z"
    },
    "papermill": {
     "duration": 0.051337,
     "end_time": "2024-08-15T21:07:22.820594",
     "exception": false,
     "start_time": "2024-08-15T21:07:22.769257",
     "status": "completed"
    },
    "tags": []
   },
   "outputs": [
    {
     "data": {
      "text/html": [
       "<div>\n",
       "<style scoped>\n",
       "    .dataframe tbody tr th:only-of-type {\n",
       "        vertical-align: middle;\n",
       "    }\n",
       "\n",
       "    .dataframe tbody tr th {\n",
       "        vertical-align: top;\n",
       "    }\n",
       "\n",
       "    .dataframe thead th {\n",
       "        text-align: right;\n",
       "    }\n",
       "</style>\n",
       "<table border=\"1\" class=\"dataframe\">\n",
       "  <thead>\n",
       "    <tr style=\"text-align: right;\">\n",
       "      <th></th>\n",
       "      <th>Time</th>\n",
       "      <th>V1</th>\n",
       "      <th>V2</th>\n",
       "      <th>V3</th>\n",
       "      <th>V4</th>\n",
       "      <th>V5</th>\n",
       "      <th>V6</th>\n",
       "      <th>V7</th>\n",
       "      <th>V8</th>\n",
       "      <th>V9</th>\n",
       "      <th>...</th>\n",
       "      <th>V21</th>\n",
       "      <th>V22</th>\n",
       "      <th>V23</th>\n",
       "      <th>V24</th>\n",
       "      <th>V25</th>\n",
       "      <th>V26</th>\n",
       "      <th>V27</th>\n",
       "      <th>V28</th>\n",
       "      <th>Amount</th>\n",
       "      <th>Class</th>\n",
       "    </tr>\n",
       "  </thead>\n",
       "  <tbody>\n",
       "    <tr>\n",
       "      <th>0</th>\n",
       "      <td>0.0</td>\n",
       "      <td>-1.359807</td>\n",
       "      <td>-0.072781</td>\n",
       "      <td>2.536347</td>\n",
       "      <td>1.378155</td>\n",
       "      <td>-0.338321</td>\n",
       "      <td>0.462388</td>\n",
       "      <td>0.239599</td>\n",
       "      <td>0.098698</td>\n",
       "      <td>0.363787</td>\n",
       "      <td>...</td>\n",
       "      <td>-0.018307</td>\n",
       "      <td>0.277838</td>\n",
       "      <td>-0.110474</td>\n",
       "      <td>0.066928</td>\n",
       "      <td>0.128539</td>\n",
       "      <td>-0.189115</td>\n",
       "      <td>0.133558</td>\n",
       "      <td>-0.021053</td>\n",
       "      <td>0.244964</td>\n",
       "      <td>0</td>\n",
       "    </tr>\n",
       "    <tr>\n",
       "      <th>1</th>\n",
       "      <td>0.0</td>\n",
       "      <td>1.191857</td>\n",
       "      <td>0.266151</td>\n",
       "      <td>0.166480</td>\n",
       "      <td>0.448154</td>\n",
       "      <td>0.060018</td>\n",
       "      <td>-0.082361</td>\n",
       "      <td>-0.078803</td>\n",
       "      <td>0.085102</td>\n",
       "      <td>-0.255425</td>\n",
       "      <td>...</td>\n",
       "      <td>-0.225775</td>\n",
       "      <td>-0.638672</td>\n",
       "      <td>0.101288</td>\n",
       "      <td>-0.339846</td>\n",
       "      <td>0.167170</td>\n",
       "      <td>0.125895</td>\n",
       "      <td>-0.008983</td>\n",
       "      <td>0.014724</td>\n",
       "      <td>-0.342475</td>\n",
       "      <td>0</td>\n",
       "    </tr>\n",
       "    <tr>\n",
       "      <th>2</th>\n",
       "      <td>1.0</td>\n",
       "      <td>-1.358354</td>\n",
       "      <td>-1.340163</td>\n",
       "      <td>1.773209</td>\n",
       "      <td>0.379780</td>\n",
       "      <td>-0.503198</td>\n",
       "      <td>1.800499</td>\n",
       "      <td>0.791461</td>\n",
       "      <td>0.247676</td>\n",
       "      <td>-1.514654</td>\n",
       "      <td>...</td>\n",
       "      <td>0.247998</td>\n",
       "      <td>0.771679</td>\n",
       "      <td>0.909412</td>\n",
       "      <td>-0.689281</td>\n",
       "      <td>-0.327642</td>\n",
       "      <td>-0.139097</td>\n",
       "      <td>-0.055353</td>\n",
       "      <td>-0.059752</td>\n",
       "      <td>1.160686</td>\n",
       "      <td>0</td>\n",
       "    </tr>\n",
       "    <tr>\n",
       "      <th>3</th>\n",
       "      <td>1.0</td>\n",
       "      <td>-0.966272</td>\n",
       "      <td>-0.185226</td>\n",
       "      <td>1.792993</td>\n",
       "      <td>-0.863291</td>\n",
       "      <td>-0.010309</td>\n",
       "      <td>1.247203</td>\n",
       "      <td>0.237609</td>\n",
       "      <td>0.377436</td>\n",
       "      <td>-1.387024</td>\n",
       "      <td>...</td>\n",
       "      <td>-0.108300</td>\n",
       "      <td>0.005274</td>\n",
       "      <td>-0.190321</td>\n",
       "      <td>-1.175575</td>\n",
       "      <td>0.647376</td>\n",
       "      <td>-0.221929</td>\n",
       "      <td>0.062723</td>\n",
       "      <td>0.061458</td>\n",
       "      <td>0.140534</td>\n",
       "      <td>0</td>\n",
       "    </tr>\n",
       "    <tr>\n",
       "      <th>4</th>\n",
       "      <td>2.0</td>\n",
       "      <td>-1.158233</td>\n",
       "      <td>0.877737</td>\n",
       "      <td>1.548718</td>\n",
       "      <td>0.403034</td>\n",
       "      <td>-0.407193</td>\n",
       "      <td>0.095921</td>\n",
       "      <td>0.592941</td>\n",
       "      <td>-0.270533</td>\n",
       "      <td>0.817739</td>\n",
       "      <td>...</td>\n",
       "      <td>-0.009431</td>\n",
       "      <td>0.798278</td>\n",
       "      <td>-0.137458</td>\n",
       "      <td>0.141267</td>\n",
       "      <td>-0.206010</td>\n",
       "      <td>0.502292</td>\n",
       "      <td>0.219422</td>\n",
       "      <td>0.215153</td>\n",
       "      <td>-0.073403</td>\n",
       "      <td>0</td>\n",
       "    </tr>\n",
       "  </tbody>\n",
       "</table>\n",
       "<p>5 rows × 31 columns</p>\n",
       "</div>"
      ],
      "text/plain": [
       "   Time        V1        V2        V3        V4        V5        V6        V7  \\\n",
       "0   0.0 -1.359807 -0.072781  2.536347  1.378155 -0.338321  0.462388  0.239599   \n",
       "1   0.0  1.191857  0.266151  0.166480  0.448154  0.060018 -0.082361 -0.078803   \n",
       "2   1.0 -1.358354 -1.340163  1.773209  0.379780 -0.503198  1.800499  0.791461   \n",
       "3   1.0 -0.966272 -0.185226  1.792993 -0.863291 -0.010309  1.247203  0.237609   \n",
       "4   2.0 -1.158233  0.877737  1.548718  0.403034 -0.407193  0.095921  0.592941   \n",
       "\n",
       "         V8        V9  ...       V21       V22       V23       V24       V25  \\\n",
       "0  0.098698  0.363787  ... -0.018307  0.277838 -0.110474  0.066928  0.128539   \n",
       "1  0.085102 -0.255425  ... -0.225775 -0.638672  0.101288 -0.339846  0.167170   \n",
       "2  0.247676 -1.514654  ...  0.247998  0.771679  0.909412 -0.689281 -0.327642   \n",
       "3  0.377436 -1.387024  ... -0.108300  0.005274 -0.190321 -1.175575  0.647376   \n",
       "4 -0.270533  0.817739  ... -0.009431  0.798278 -0.137458  0.141267 -0.206010   \n",
       "\n",
       "        V26       V27       V28    Amount  Class  \n",
       "0 -0.189115  0.133558 -0.021053  0.244964      0  \n",
       "1  0.125895 -0.008983  0.014724 -0.342475      0  \n",
       "2 -0.139097 -0.055353 -0.059752  1.160686      0  \n",
       "3 -0.221929  0.062723  0.061458  0.140534      0  \n",
       "4  0.502292  0.219422  0.215153 -0.073403      0  \n",
       "\n",
       "[5 rows x 31 columns]"
      ]
     },
     "execution_count": 12,
     "metadata": {},
     "output_type": "execute_result"
    }
   ],
   "source": [
    "data.head()"
   ]
  },
  {
   "cell_type": "code",
   "execution_count": 13,
   "id": "1eac1f54",
   "metadata": {
    "execution": {
     "iopub.execute_input": "2024-08-15T21:07:22.859167Z",
     "iopub.status.busy": "2024-08-15T21:07:22.858390Z",
     "iopub.status.idle": "2024-08-15T21:07:22.886872Z",
     "shell.execute_reply": "2024-08-15T21:07:22.885842Z"
    },
    "papermill": {
     "duration": 0.050908,
     "end_time": "2024-08-15T21:07:22.889707",
     "exception": false,
     "start_time": "2024-08-15T21:07:22.838799",
     "status": "completed"
    },
    "tags": []
   },
   "outputs": [],
   "source": [
    "data = data.drop(['Time'], axis =1)"
   ]
  },
  {
   "cell_type": "code",
   "execution_count": 14,
   "id": "586eb563",
   "metadata": {
    "execution": {
     "iopub.execute_input": "2024-08-15T21:07:22.927796Z",
     "iopub.status.busy": "2024-08-15T21:07:22.927002Z",
     "iopub.status.idle": "2024-08-15T21:07:22.954732Z",
     "shell.execute_reply": "2024-08-15T21:07:22.953561Z"
    },
    "papermill": {
     "duration": 0.049695,
     "end_time": "2024-08-15T21:07:22.957500",
     "exception": false,
     "start_time": "2024-08-15T21:07:22.907805",
     "status": "completed"
    },
    "tags": []
   },
   "outputs": [
    {
     "data": {
      "text/html": [
       "<div>\n",
       "<style scoped>\n",
       "    .dataframe tbody tr th:only-of-type {\n",
       "        vertical-align: middle;\n",
       "    }\n",
       "\n",
       "    .dataframe tbody tr th {\n",
       "        vertical-align: top;\n",
       "    }\n",
       "\n",
       "    .dataframe thead th {\n",
       "        text-align: right;\n",
       "    }\n",
       "</style>\n",
       "<table border=\"1\" class=\"dataframe\">\n",
       "  <thead>\n",
       "    <tr style=\"text-align: right;\">\n",
       "      <th></th>\n",
       "      <th>V1</th>\n",
       "      <th>V2</th>\n",
       "      <th>V3</th>\n",
       "      <th>V4</th>\n",
       "      <th>V5</th>\n",
       "      <th>V6</th>\n",
       "      <th>V7</th>\n",
       "      <th>V8</th>\n",
       "      <th>V9</th>\n",
       "      <th>V10</th>\n",
       "      <th>...</th>\n",
       "      <th>V21</th>\n",
       "      <th>V22</th>\n",
       "      <th>V23</th>\n",
       "      <th>V24</th>\n",
       "      <th>V25</th>\n",
       "      <th>V26</th>\n",
       "      <th>V27</th>\n",
       "      <th>V28</th>\n",
       "      <th>Amount</th>\n",
       "      <th>Class</th>\n",
       "    </tr>\n",
       "  </thead>\n",
       "  <tbody>\n",
       "    <tr>\n",
       "      <th>0</th>\n",
       "      <td>-1.359807</td>\n",
       "      <td>-0.072781</td>\n",
       "      <td>2.536347</td>\n",
       "      <td>1.378155</td>\n",
       "      <td>-0.338321</td>\n",
       "      <td>0.462388</td>\n",
       "      <td>0.239599</td>\n",
       "      <td>0.098698</td>\n",
       "      <td>0.363787</td>\n",
       "      <td>0.090794</td>\n",
       "      <td>...</td>\n",
       "      <td>-0.018307</td>\n",
       "      <td>0.277838</td>\n",
       "      <td>-0.110474</td>\n",
       "      <td>0.066928</td>\n",
       "      <td>0.128539</td>\n",
       "      <td>-0.189115</td>\n",
       "      <td>0.133558</td>\n",
       "      <td>-0.021053</td>\n",
       "      <td>0.244964</td>\n",
       "      <td>0</td>\n",
       "    </tr>\n",
       "    <tr>\n",
       "      <th>1</th>\n",
       "      <td>1.191857</td>\n",
       "      <td>0.266151</td>\n",
       "      <td>0.166480</td>\n",
       "      <td>0.448154</td>\n",
       "      <td>0.060018</td>\n",
       "      <td>-0.082361</td>\n",
       "      <td>-0.078803</td>\n",
       "      <td>0.085102</td>\n",
       "      <td>-0.255425</td>\n",
       "      <td>-0.166974</td>\n",
       "      <td>...</td>\n",
       "      <td>-0.225775</td>\n",
       "      <td>-0.638672</td>\n",
       "      <td>0.101288</td>\n",
       "      <td>-0.339846</td>\n",
       "      <td>0.167170</td>\n",
       "      <td>0.125895</td>\n",
       "      <td>-0.008983</td>\n",
       "      <td>0.014724</td>\n",
       "      <td>-0.342475</td>\n",
       "      <td>0</td>\n",
       "    </tr>\n",
       "    <tr>\n",
       "      <th>2</th>\n",
       "      <td>-1.358354</td>\n",
       "      <td>-1.340163</td>\n",
       "      <td>1.773209</td>\n",
       "      <td>0.379780</td>\n",
       "      <td>-0.503198</td>\n",
       "      <td>1.800499</td>\n",
       "      <td>0.791461</td>\n",
       "      <td>0.247676</td>\n",
       "      <td>-1.514654</td>\n",
       "      <td>0.207643</td>\n",
       "      <td>...</td>\n",
       "      <td>0.247998</td>\n",
       "      <td>0.771679</td>\n",
       "      <td>0.909412</td>\n",
       "      <td>-0.689281</td>\n",
       "      <td>-0.327642</td>\n",
       "      <td>-0.139097</td>\n",
       "      <td>-0.055353</td>\n",
       "      <td>-0.059752</td>\n",
       "      <td>1.160686</td>\n",
       "      <td>0</td>\n",
       "    </tr>\n",
       "    <tr>\n",
       "      <th>3</th>\n",
       "      <td>-0.966272</td>\n",
       "      <td>-0.185226</td>\n",
       "      <td>1.792993</td>\n",
       "      <td>-0.863291</td>\n",
       "      <td>-0.010309</td>\n",
       "      <td>1.247203</td>\n",
       "      <td>0.237609</td>\n",
       "      <td>0.377436</td>\n",
       "      <td>-1.387024</td>\n",
       "      <td>-0.054952</td>\n",
       "      <td>...</td>\n",
       "      <td>-0.108300</td>\n",
       "      <td>0.005274</td>\n",
       "      <td>-0.190321</td>\n",
       "      <td>-1.175575</td>\n",
       "      <td>0.647376</td>\n",
       "      <td>-0.221929</td>\n",
       "      <td>0.062723</td>\n",
       "      <td>0.061458</td>\n",
       "      <td>0.140534</td>\n",
       "      <td>0</td>\n",
       "    </tr>\n",
       "    <tr>\n",
       "      <th>4</th>\n",
       "      <td>-1.158233</td>\n",
       "      <td>0.877737</td>\n",
       "      <td>1.548718</td>\n",
       "      <td>0.403034</td>\n",
       "      <td>-0.407193</td>\n",
       "      <td>0.095921</td>\n",
       "      <td>0.592941</td>\n",
       "      <td>-0.270533</td>\n",
       "      <td>0.817739</td>\n",
       "      <td>0.753074</td>\n",
       "      <td>...</td>\n",
       "      <td>-0.009431</td>\n",
       "      <td>0.798278</td>\n",
       "      <td>-0.137458</td>\n",
       "      <td>0.141267</td>\n",
       "      <td>-0.206010</td>\n",
       "      <td>0.502292</td>\n",
       "      <td>0.219422</td>\n",
       "      <td>0.215153</td>\n",
       "      <td>-0.073403</td>\n",
       "      <td>0</td>\n",
       "    </tr>\n",
       "  </tbody>\n",
       "</table>\n",
       "<p>5 rows × 30 columns</p>\n",
       "</div>"
      ],
      "text/plain": [
       "         V1        V2        V3        V4        V5        V6        V7  \\\n",
       "0 -1.359807 -0.072781  2.536347  1.378155 -0.338321  0.462388  0.239599   \n",
       "1  1.191857  0.266151  0.166480  0.448154  0.060018 -0.082361 -0.078803   \n",
       "2 -1.358354 -1.340163  1.773209  0.379780 -0.503198  1.800499  0.791461   \n",
       "3 -0.966272 -0.185226  1.792993 -0.863291 -0.010309  1.247203  0.237609   \n",
       "4 -1.158233  0.877737  1.548718  0.403034 -0.407193  0.095921  0.592941   \n",
       "\n",
       "         V8        V9       V10  ...       V21       V22       V23       V24  \\\n",
       "0  0.098698  0.363787  0.090794  ... -0.018307  0.277838 -0.110474  0.066928   \n",
       "1  0.085102 -0.255425 -0.166974  ... -0.225775 -0.638672  0.101288 -0.339846   \n",
       "2  0.247676 -1.514654  0.207643  ...  0.247998  0.771679  0.909412 -0.689281   \n",
       "3  0.377436 -1.387024 -0.054952  ... -0.108300  0.005274 -0.190321 -1.175575   \n",
       "4 -0.270533  0.817739  0.753074  ... -0.009431  0.798278 -0.137458  0.141267   \n",
       "\n",
       "        V25       V26       V27       V28    Amount  Class  \n",
       "0  0.128539 -0.189115  0.133558 -0.021053  0.244964      0  \n",
       "1  0.167170  0.125895 -0.008983  0.014724 -0.342475      0  \n",
       "2 -0.327642 -0.139097 -0.055353 -0.059752  1.160686      0  \n",
       "3  0.647376 -0.221929  0.062723  0.061458  0.140534      0  \n",
       "4 -0.206010  0.502292  0.219422  0.215153 -0.073403      0  \n",
       "\n",
       "[5 rows x 30 columns]"
      ]
     },
     "execution_count": 14,
     "metadata": {},
     "output_type": "execute_result"
    }
   ],
   "source": [
    "data.head()"
   ]
  },
  {
   "cell_type": "code",
   "execution_count": 15,
   "id": "2a8d81cf",
   "metadata": {
    "execution": {
     "iopub.execute_input": "2024-08-15T21:07:22.996565Z",
     "iopub.status.busy": "2024-08-15T21:07:22.996127Z",
     "iopub.status.idle": "2024-08-15T21:07:23.802170Z",
     "shell.execute_reply": "2024-08-15T21:07:23.800937Z"
    },
    "papermill": {
     "duration": 0.828935,
     "end_time": "2024-08-15T21:07:23.804957",
     "exception": false,
     "start_time": "2024-08-15T21:07:22.976022",
     "status": "completed"
    },
    "tags": []
   },
   "outputs": [],
   "source": [
    "data = data.drop_duplicates()"
   ]
  },
  {
   "cell_type": "code",
   "execution_count": 16,
   "id": "6035c3ec",
   "metadata": {
    "execution": {
     "iopub.execute_input": "2024-08-15T21:07:23.844062Z",
     "iopub.status.busy": "2024-08-15T21:07:23.843635Z",
     "iopub.status.idle": "2024-08-15T21:07:23.850463Z",
     "shell.execute_reply": "2024-08-15T21:07:23.849277Z"
    },
    "papermill": {
     "duration": 0.029273,
     "end_time": "2024-08-15T21:07:23.853137",
     "exception": false,
     "start_time": "2024-08-15T21:07:23.823864",
     "status": "completed"
    },
    "tags": []
   },
   "outputs": [
    {
     "data": {
      "text/plain": [
       "(275663, 30)"
      ]
     },
     "execution_count": 16,
     "metadata": {},
     "output_type": "execute_result"
    }
   ],
   "source": [
    "data.shape"
   ]
  },
  {
   "cell_type": "code",
   "execution_count": 17,
   "id": "908ff6ac",
   "metadata": {
    "execution": {
     "iopub.execute_input": "2024-08-15T21:07:23.893573Z",
     "iopub.status.busy": "2024-08-15T21:07:23.892686Z",
     "iopub.status.idle": "2024-08-15T21:07:23.906238Z",
     "shell.execute_reply": "2024-08-15T21:07:23.905021Z"
    },
    "papermill": {
     "duration": 0.036389,
     "end_time": "2024-08-15T21:07:23.908724",
     "exception": false,
     "start_time": "2024-08-15T21:07:23.872335",
     "status": "completed"
    },
    "tags": []
   },
   "outputs": [
    {
     "data": {
      "text/plain": [
       "Class\n",
       "0    275190\n",
       "1       473\n",
       "Name: count, dtype: int64"
      ]
     },
     "execution_count": 17,
     "metadata": {},
     "output_type": "execute_result"
    }
   ],
   "source": [
    "data['Class'].value_counts()"
   ]
  },
  {
   "cell_type": "code",
   "execution_count": 18,
   "id": "40929c52",
   "metadata": {
    "execution": {
     "iopub.execute_input": "2024-08-15T21:07:23.948415Z",
     "iopub.status.busy": "2024-08-15T21:07:23.948024Z",
     "iopub.status.idle": "2024-08-15T21:07:23.954016Z",
     "shell.execute_reply": "2024-08-15T21:07:23.952887Z"
    },
    "papermill": {
     "duration": 0.028894,
     "end_time": "2024-08-15T21:07:23.956539",
     "exception": false,
     "start_time": "2024-08-15T21:07:23.927645",
     "status": "completed"
    },
    "tags": []
   },
   "outputs": [],
   "source": [
    "import seaborn as sns\n",
    "import matplotlib.pyplot as plt\n",
    "plt.style.use('ggplot')"
   ]
  },
  {
   "cell_type": "code",
   "execution_count": 19,
   "id": "d2c5f8a4",
   "metadata": {
    "execution": {
     "iopub.execute_input": "2024-08-15T21:07:23.996419Z",
     "iopub.status.busy": "2024-08-15T21:07:23.995413Z",
     "iopub.status.idle": "2024-08-15T21:07:24.214405Z",
     "shell.execute_reply": "2024-08-15T21:07:24.213333Z"
    },
    "papermill": {
     "duration": 0.241482,
     "end_time": "2024-08-15T21:07:24.216823",
     "exception": false,
     "start_time": "2024-08-15T21:07:23.975341",
     "status": "completed"
    },
    "tags": []
   },
   "outputs": [
    {
     "data": {
      "image/png": "[encoded data removed]",
      "text/plain": [
       "<Figure size 640x480 with 1 Axes>"
      ]
     },
     "metadata": {},
     "output_type": "display_data"
    }
   ],
   "source": [
    "sns.countplot(data['Class'])\n",
    "plt.show()"
   ]
  },
  {
   "cell_type": "code",
   "execution_count": 20,
   "id": "4073142d",
   "metadata": {
    "execution": {
     "iopub.execute_input": "2024-08-15T21:07:24.256843Z",
     "iopub.status.busy": "2024-08-15T21:07:24.256412Z",
     "iopub.status.idle": "2024-08-15T21:07:24.284001Z",
     "shell.execute_reply": "2024-08-15T21:07:24.282938Z"
    },
    "papermill": {
     "duration": 0.050709,
     "end_time": "2024-08-15T21:07:24.286717",
     "exception": false,
     "start_time": "2024-08-15T21:07:24.236008",
     "status": "completed"
    },
    "tags": []
   },
   "outputs": [],
   "source": [
    "X = data.drop('Class', axis = 1)\n",
    "y=data['Class']"
   ]
  },
  {
   "cell_type": "code",
   "execution_count": 21,
   "id": "c638b6c3",
   "metadata": {
    "execution": {
     "iopub.execute_input": "2024-08-15T21:07:24.327132Z",
     "iopub.status.busy": "2024-08-15T21:07:24.326727Z",
     "iopub.status.idle": "2024-08-15T21:07:24.424909Z",
     "shell.execute_reply": "2024-08-15T21:07:24.423769Z"
    },
    "papermill": {
     "duration": 0.121595,
     "end_time": "2024-08-15T21:07:24.427743",
     "exception": false,
     "start_time": "2024-08-15T21:07:24.306148",
     "status": "completed"
    },
    "tags": []
   },
   "outputs": [],
   "source": [
    "from sklearn.model_selection import train_test_split"
   ]
  },
  {
   "cell_type": "code",
   "execution_count": 22,
   "id": "8f01f455",
   "metadata": {
    "execution": {
     "iopub.execute_input": "2024-08-15T21:07:24.468497Z",
     "iopub.status.busy": "2024-08-15T21:07:24.467610Z",
     "iopub.status.idle": "2024-08-15T21:07:24.561393Z",
     "shell.execute_reply": "2024-08-15T21:07:24.560090Z"
    },
    "papermill": {
     "duration": 0.117234,
     "end_time": "2024-08-15T21:07:24.564305",
     "exception": false,
     "start_time": "2024-08-15T21:07:24.447071",
     "status": "completed"
    },
    "tags": []
   },
   "outputs": [],
   "source": [
    "X_train, X_test, y_train, y_test = train_test_split(X, y, test_size = 0.2, random_state = 42)"
   ]
  },
  {
   "cell_type": "code",
   "execution_count": 23,
   "id": "7363d074",
   "metadata": {
    "execution": {
     "iopub.execute_input": "2024-08-15T21:07:24.663677Z",
     "iopub.status.busy": "2024-08-15T21:07:24.663236Z",
     "iopub.status.idle": "2024-08-15T21:07:24.668799Z",
     "shell.execute_reply": "2024-08-15T21:07:24.667586Z"
    },
    "papermill": {
     "duration": 0.087364,
     "end_time": "2024-08-15T21:07:24.671420",
     "exception": false,
     "start_time": "2024-08-15T21:07:24.584056",
     "status": "completed"
    },
    "tags": []
   },
   "outputs": [],
   "source": [
    "import numpy as np"
   ]
  },
  {
   "cell_type": "code",
   "execution_count": 24,
   "id": "356c4780",
   "metadata": {
    "execution": {
     "iopub.execute_input": "2024-08-15T21:07:24.711686Z",
     "iopub.status.busy": "2024-08-15T21:07:24.710949Z",
     "iopub.status.idle": "2024-08-15T21:07:24.961820Z",
     "shell.execute_reply": "2024-08-15T21:07:24.960658Z"
    },
    "papermill": {
     "duration": 0.273908,
     "end_time": "2024-08-15T21:07:24.964466",
     "exception": false,
     "start_time": "2024-08-15T21:07:24.690558",
     "status": "completed"
    },
    "tags": []
   },
   "outputs": [],
   "source": [
    "from sklearn.metrics import accuracy_score, precision_score, recall_score, f1_score, confusion_matrix, classification_report\n",
    "from sklearn.linear_model import LogisticRegression, SGDClassifier\n",
    "from sklearn.tree import DecisionTreeClassifier\n",
    "from sklearn.ensemble import RandomForestClassifier, AdaBoostClassifier, GradientBoostingClassifier, BaggingClassifier, ExtraTreesClassifier, VotingClassifier\n",
    "from sklearn.svm import SVC\n",
    "from sklearn.neighbors import KNeighborsClassifier\n",
    "from sklearn.naive_bayes import GaussianNB"
   ]
  },
  {
   "cell_type": "code",
   "execution_count": 25,
   "id": "32716134",
   "metadata": {
    "execution": {
     "iopub.execute_input": "2024-08-15T21:07:25.004670Z",
     "iopub.status.busy": "2024-08-15T21:07:25.004229Z",
     "iopub.status.idle": "2024-08-15T21:07:27.992802Z",
     "shell.execute_reply": "2024-08-15T21:07:27.991281Z"
    },
    "papermill": {
     "duration": 3.011839,
     "end_time": "2024-08-15T21:07:27.995605",
     "exception": false,
     "start_time": "2024-08-15T21:07:24.983766",
     "status": "completed"
    },
    "tags": []
   },
   "outputs": [
    {
     "name": "stdout",
     "output_type": "stream",
     "text": [
      "\n",
      "==========Logistic Regression===========\n",
      "\n",
      " Accuracy: 0.9992200678359603\n",
      " Precision: 0.8870967741935484\n",
      " Recall: 0.6043956043956044\n",
      " F1 Score: 0.718954248366013\n",
      "\n",
      " Confusion Matrix:\n",
      "[[55035     7]\n",
      " [   36    55]]\n",
      "\n",
      " Classification Report:\n",
      "              precision    recall  f1-score   support\n",
      "\n",
      "           0       1.00      1.00      1.00     55042\n",
      "           1       0.89      0.60      0.72        91\n",
      "\n",
      "    accuracy                           1.00     55133\n",
      "   macro avg       0.94      0.80      0.86     55133\n",
      "weighted avg       1.00      1.00      1.00     55133\n",
      "\n"
     ]
    }
   ],
   "source": [
    "from sklearn.metrics import accuracy_score, precision_score, recall_score, f1_score, confusion_matrix, classification_report\n",
    "from sklearn.naive_bayes import GaussianNB\n",
    "from sklearn.svm import SVC\n",
    "from sklearn.ensemble import AdaBoostClassifier\n",
    "from sklearn.ensemble import GradientBoostingClassifier\n",
    "from sklearn.ensemble import BaggingClassifier\n",
    "from sklearn.ensemble import ExtraTreesClassifier\n",
    "from sklearn.linear_model import SGDClassifier\n",
    "from sklearn.ensemble import VotingClassifier\n",
    "from sklearn.neighbors import KNeighborsClassifier\n",
    "from sklearn.linear_model import LogisticRegression\n",
    "\n",
    "classifier = {\n",
    "    \"Logistic Regression\": LogisticRegression()\n",
    "   }\n",
    "\n",
    "for modelname, clf in classifier.items():\n",
    "    print(f\"\\n=========={modelname}===========\")\n",
    "    clf.fit(X_train, y_train)\n",
    "    y_pred = clf.predict(X_test)\n",
    "    \n",
    "    # Evaluation Metrics\n",
    "    accuracy = accuracy_score(y_test, y_pred)\n",
    "    precision = precision_score(y_test, y_pred)\n",
    "    recall = recall_score(y_test, y_pred)\n",
    "    f1 = f1_score(y_test, y_pred)\n",
    "    print(f\"\\n Accuracy: {accuracy}\")\n",
    "    print(f\" Precision: {precision}\")\n",
    "    print(f\" Recall: {recall}\")\n",
    "    print(f\" F1 Score: {f1}\")\n",
    "    \n",
    "    # Confusion Matrix\n",
    "    print(\"\\n Confusion Matrix:\")\n",
    "    print(confusion_matrix(y_test, y_pred))\n",
    "    \n",
    "    # Classification Report\n",
    "    print(\"\\n Classification Report:\")\n",
    "    print(classification_report(y_test, y_pred))"
   ]
  },
  {
   "cell_type": "code",
   "execution_count": 26,
   "id": "396ab0c9",
   "metadata": {
    "execution": {
     "iopub.execute_input": "2024-08-15T21:07:28.036624Z",
     "iopub.status.busy": "2024-08-15T21:07:28.036119Z",
     "iopub.status.idle": "2024-08-15T21:07:28.078771Z",
     "shell.execute_reply": "2024-08-15T21:07:28.077542Z"
    },
    "papermill": {
     "duration": 0.066946,
     "end_time": "2024-08-15T21:07:28.082060",
     "exception": false,
     "start_time": "2024-08-15T21:07:28.015114",
     "status": "completed"
    },
    "tags": []
   },
   "outputs": [],
   "source": [
    "normal = data[data['Class']==0]\n",
    "fraud = data[data['Class']==1]"
   ]
  },
  {
   "cell_type": "code",
   "execution_count": 27,
   "id": "cee5a064",
   "metadata": {
    "execution": {
     "iopub.execute_input": "2024-08-15T21:07:28.130418Z",
     "iopub.status.busy": "2024-08-15T21:07:28.129894Z",
     "iopub.status.idle": "2024-08-15T21:07:28.138037Z",
     "shell.execute_reply": "2024-08-15T21:07:28.136758Z"
    },
    "papermill": {
     "duration": 0.031978,
     "end_time": "2024-08-15T21:07:28.140719",
     "exception": false,
     "start_time": "2024-08-15T21:07:28.108741",
     "status": "completed"
    },
    "tags": []
   },
   "outputs": [
    {
     "data": {
      "text/plain": [
       "(275190, 30)"
      ]
     },
     "execution_count": 27,
     "metadata": {},
     "output_type": "execute_result"
    }
   ],
   "source": [
    "normal.shape"
   ]
  },
  {
   "cell_type": "code",
   "execution_count": 28,
   "id": "35c862de",
   "metadata": {
    "execution": {
     "iopub.execute_input": "2024-08-15T21:07:28.182861Z",
     "iopub.status.busy": "2024-08-15T21:07:28.181760Z",
     "iopub.status.idle": "2024-08-15T21:07:28.189991Z",
     "shell.execute_reply": "2024-08-15T21:07:28.188883Z"
    },
    "papermill": {
     "duration": 0.032125,
     "end_time": "2024-08-15T21:07:28.192393",
     "exception": false,
     "start_time": "2024-08-15T21:07:28.160268",
     "status": "completed"
    },
    "tags": []
   },
   "outputs": [
    {
     "data": {
      "text/plain": [
       "(473, 30)"
      ]
     },
     "execution_count": 28,
     "metadata": {},
     "output_type": "execute_result"
    }
   ],
   "source": [
    "fraud.shape"
   ]
  },
  {
   "cell_type": "code",
   "execution_count": 29,
   "id": "55aa3898",
   "metadata": {
    "execution": {
     "iopub.execute_input": "2024-08-15T21:07:28.234436Z",
     "iopub.status.busy": "2024-08-15T21:07:28.233899Z",
     "iopub.status.idle": "2024-08-15T21:07:28.250394Z",
     "shell.execute_reply": "2024-08-15T21:07:28.249267Z"
    },
    "papermill": {
     "duration": 0.040796,
     "end_time": "2024-08-15T21:07:28.253078",
     "exception": false,
     "start_time": "2024-08-15T21:07:28.212282",
     "status": "completed"
    },
    "tags": []
   },
   "outputs": [],
   "source": [
    "normal_sample = normal.sample(n=473)"
   ]
  },
  {
   "cell_type": "code",
   "execution_count": 30,
   "id": "ea42c8df",
   "metadata": {
    "execution": {
     "iopub.execute_input": "2024-08-15T21:07:28.295993Z",
     "iopub.status.busy": "2024-08-15T21:07:28.295093Z",
     "iopub.status.idle": "2024-08-15T21:07:28.302944Z",
     "shell.execute_reply": "2024-08-15T21:07:28.301762Z"
    },
    "papermill": {
     "duration": 0.032181,
     "end_time": "2024-08-15T21:07:28.305237",
     "exception": false,
     "start_time": "2024-08-15T21:07:28.273056",
     "status": "completed"
    },
    "tags": []
   },
   "outputs": [
    {
     "data": {
      "text/plain": [
       "(473, 30)"
      ]
     },
     "execution_count": 30,
     "metadata": {},
     "output_type": "execute_result"
    }
   ],
   "source": [
    "normal_sample.shape"
   ]
  },
  {
   "cell_type": "code",
   "execution_count": 31,
   "id": "056d5436",
   "metadata": {
    "execution": {
     "iopub.execute_input": "2024-08-15T21:07:28.346762Z",
     "iopub.status.busy": "2024-08-15T21:07:28.346255Z",
     "iopub.status.idle": "2024-08-15T21:07:28.353052Z",
     "shell.execute_reply": "2024-08-15T21:07:28.351978Z"
    },
    "papermill": {
     "duration": 0.030365,
     "end_time": "2024-08-15T21:07:28.355430",
     "exception": false,
     "start_time": "2024-08-15T21:07:28.325065",
     "status": "completed"
    },
    "tags": []
   },
   "outputs": [],
   "source": [
    "new_data = pd.concat([normal_sample,fraud], ignore_index=True)"
   ]
  },
  {
   "cell_type": "code",
   "execution_count": 32,
   "id": "2a32be9a",
   "metadata": {
    "execution": {
     "iopub.execute_input": "2024-08-15T21:07:28.401315Z",
     "iopub.status.busy": "2024-08-15T21:07:28.400837Z",
     "iopub.status.idle": "2024-08-15T21:07:28.429607Z",
     "shell.execute_reply": "2024-08-15T21:07:28.428431Z"
    },
    "papermill": {
     "duration": 0.0551,
     "end_time": "2024-08-15T21:07:28.432073",
     "exception": false,
     "start_time": "2024-08-15T21:07:28.376973",
     "status": "completed"
    },
    "tags": []
   },
   "outputs": [
    {
     "data": {
      "text/html": [
       "<div>\n",
       "<style scoped>\n",
       "    .dataframe tbody tr th:only-of-type {\n",
       "        vertical-align: middle;\n",
       "    }\n",
       "\n",
       "    .dataframe tbody tr th {\n",
       "        vertical-align: top;\n",
       "    }\n",
       "\n",
       "    .dataframe thead th {\n",
       "        text-align: right;\n",
       "    }\n",
       "</style>\n",
       "<table border=\"1\" class=\"dataframe\">\n",
       "  <thead>\n",
       "    <tr style=\"text-align: right;\">\n",
       "      <th></th>\n",
       "      <th>V1</th>\n",
       "      <th>V2</th>\n",
       "      <th>V3</th>\n",
       "      <th>V4</th>\n",
       "      <th>V5</th>\n",
       "      <th>V6</th>\n",
       "      <th>V7</th>\n",
       "      <th>V8</th>\n",
       "      <th>V9</th>\n",
       "      <th>V10</th>\n",
       "      <th>...</th>\n",
       "      <th>V21</th>\n",
       "      <th>V22</th>\n",
       "      <th>V23</th>\n",
       "      <th>V24</th>\n",
       "      <th>V25</th>\n",
       "      <th>V26</th>\n",
       "      <th>V27</th>\n",
       "      <th>V28</th>\n",
       "      <th>Amount</th>\n",
       "      <th>Class</th>\n",
       "    </tr>\n",
       "  </thead>\n",
       "  <tbody>\n",
       "    <tr>\n",
       "      <th>0</th>\n",
       "      <td>1.906970</td>\n",
       "      <td>-0.277455</td>\n",
       "      <td>-1.977279</td>\n",
       "      <td>0.224739</td>\n",
       "      <td>0.512067</td>\n",
       "      <td>-0.762420</td>\n",
       "      <td>0.563661</td>\n",
       "      <td>-0.361051</td>\n",
       "      <td>0.601875</td>\n",
       "      <td>-0.177440</td>\n",
       "      <td>...</td>\n",
       "      <td>0.148288</td>\n",
       "      <td>0.370618</td>\n",
       "      <td>-0.072321</td>\n",
       "      <td>0.434485</td>\n",
       "      <td>0.387872</td>\n",
       "      <td>-0.541424</td>\n",
       "      <td>-0.028318</td>\n",
       "      <td>-0.037726</td>\n",
       "      <td>0.066530</td>\n",
       "      <td>0</td>\n",
       "    </tr>\n",
       "    <tr>\n",
       "      <th>1</th>\n",
       "      <td>0.740373</td>\n",
       "      <td>-0.011557</td>\n",
       "      <td>-0.020730</td>\n",
       "      <td>2.643066</td>\n",
       "      <td>0.361430</td>\n",
       "      <td>0.497045</td>\n",
       "      <td>0.335612</td>\n",
       "      <td>0.119888</td>\n",
       "      <td>0.221437</td>\n",
       "      <td>0.414180</td>\n",
       "      <td>...</td>\n",
       "      <td>0.033858</td>\n",
       "      <td>-0.156158</td>\n",
       "      <td>-0.186587</td>\n",
       "      <td>-0.377761</td>\n",
       "      <td>0.398063</td>\n",
       "      <td>0.057756</td>\n",
       "      <td>-0.084533</td>\n",
       "      <td>0.015273</td>\n",
       "      <td>0.404968</td>\n",
       "      <td>0</td>\n",
       "    </tr>\n",
       "    <tr>\n",
       "      <th>2</th>\n",
       "      <td>1.328181</td>\n",
       "      <td>0.005283</td>\n",
       "      <td>-0.091712</td>\n",
       "      <td>0.149795</td>\n",
       "      <td>-0.303337</td>\n",
       "      <td>-0.926846</td>\n",
       "      <td>0.122930</td>\n",
       "      <td>-0.211222</td>\n",
       "      <td>0.398993</td>\n",
       "      <td>-0.159540</td>\n",
       "      <td>...</td>\n",
       "      <td>-0.122759</td>\n",
       "      <td>-0.241423</td>\n",
       "      <td>-0.117649</td>\n",
       "      <td>0.106396</td>\n",
       "      <td>0.566983</td>\n",
       "      <td>1.115290</td>\n",
       "      <td>-0.099590</td>\n",
       "      <td>-0.012845</td>\n",
       "      <td>-0.345233</td>\n",
       "      <td>0</td>\n",
       "    </tr>\n",
       "    <tr>\n",
       "      <th>3</th>\n",
       "      <td>-0.784990</td>\n",
       "      <td>1.282383</td>\n",
       "      <td>-0.685550</td>\n",
       "      <td>-1.469917</td>\n",
       "      <td>0.603660</td>\n",
       "      <td>-1.040203</td>\n",
       "      <td>0.926475</td>\n",
       "      <td>0.068268</td>\n",
       "      <td>0.413466</td>\n",
       "      <td>0.058371</td>\n",
       "      <td>...</td>\n",
       "      <td>0.332411</td>\n",
       "      <td>1.366998</td>\n",
       "      <td>-0.153967</td>\n",
       "      <td>-0.319367</td>\n",
       "      <td>-0.489170</td>\n",
       "      <td>-0.613200</td>\n",
       "      <td>0.425507</td>\n",
       "      <td>0.143726</td>\n",
       "      <td>-0.333679</td>\n",
       "      <td>0</td>\n",
       "    </tr>\n",
       "    <tr>\n",
       "      <th>4</th>\n",
       "      <td>-1.009202</td>\n",
       "      <td>-0.429729</td>\n",
       "      <td>2.109263</td>\n",
       "      <td>-0.718647</td>\n",
       "      <td>-0.389684</td>\n",
       "      <td>-0.038644</td>\n",
       "      <td>0.089580</td>\n",
       "      <td>0.314820</td>\n",
       "      <td>0.790871</td>\n",
       "      <td>-1.191298</td>\n",
       "      <td>...</td>\n",
       "      <td>-0.021664</td>\n",
       "      <td>-0.168552</td>\n",
       "      <td>0.282626</td>\n",
       "      <td>0.111297</td>\n",
       "      <td>-0.492715</td>\n",
       "      <td>0.779755</td>\n",
       "      <td>0.023864</td>\n",
       "      <td>0.133686</td>\n",
       "      <td>0.067089</td>\n",
       "      <td>0</td>\n",
       "    </tr>\n",
       "  </tbody>\n",
       "</table>\n",
       "<p>5 rows × 30 columns</p>\n",
       "</div>"
      ],
      "text/plain": [
       "         V1        V2        V3        V4        V5        V6        V7  \\\n",
       "0  1.906970 -0.277455 -1.977279  0.224739  0.512067 -0.762420  0.563661   \n",
       "1  0.740373 -0.011557 -0.020730  2.643066  0.361430  0.497045  0.335612   \n",
       "2  1.328181  0.005283 -0.091712  0.149795 -0.303337 -0.926846  0.122930   \n",
       "3 -0.784990  1.282383 -0.685550 -1.469917  0.603660 -1.040203  0.926475   \n",
       "4 -1.009202 -0.429729  2.109263 -0.718647 -0.389684 -0.038644  0.089580   \n",
       "\n",
       "         V8        V9       V10  ...       V21       V22       V23       V24  \\\n",
       "0 -0.361051  0.601875 -0.177440  ...  0.148288  0.370618 -0.072321  0.434485   \n",
       "1  0.119888  0.221437  0.414180  ...  0.033858 -0.156158 -0.186587 -0.377761   \n",
       "2 -0.211222  0.398993 -0.159540  ... -0.122759 -0.241423 -0.117649  0.106396   \n",
       "3  0.068268  0.413466  0.058371  ...  0.332411  1.366998 -0.153967 -0.319367   \n",
       "4  0.314820  0.790871 -1.191298  ... -0.021664 -0.168552  0.282626  0.111297   \n",
       "\n",
       "        V25       V26       V27       V28    Amount  Class  \n",
       "0  0.387872 -0.541424 -0.028318 -0.037726  0.066530      0  \n",
       "1  0.398063  0.057756 -0.084533  0.015273  0.404968      0  \n",
       "2  0.566983  1.115290 -0.099590 -0.012845 -0.345233      0  \n",
       "3 -0.489170 -0.613200  0.425507  0.143726 -0.333679      0  \n",
       "4 -0.492715  0.779755  0.023864  0.133686  0.067089      0  \n",
       "\n",
       "[5 rows x 30 columns]"
      ]
     },
     "execution_count": 32,
     "metadata": {},
     "output_type": "execute_result"
    }
   ],
   "source": [
    "new_data.head()"
   ]
  },
  {
   "cell_type": "code",
   "execution_count": 33,
   "id": "d31e6cdb",
   "metadata": {
    "execution": {
     "iopub.execute_input": "2024-08-15T21:07:28.475565Z",
     "iopub.status.busy": "2024-08-15T21:07:28.474694Z",
     "iopub.status.idle": "2024-08-15T21:07:28.486753Z",
     "shell.execute_reply": "2024-08-15T21:07:28.485556Z"
    },
    "papermill": {
     "duration": 0.036672,
     "end_time": "2024-08-15T21:07:28.489244",
     "exception": false,
     "start_time": "2024-08-15T21:07:28.452572",
     "status": "completed"
    },
    "tags": []
   },
   "outputs": [
    {
     "data": {
      "text/plain": [
       "Class\n",
       "0    473\n",
       "1    473\n",
       "Name: count, dtype: int64"
      ]
     },
     "execution_count": 33,
     "metadata": {},
     "output_type": "execute_result"
    }
   ],
   "source": [
    "new_data['Class'].value_counts()"
   ]
  },
  {
   "cell_type": "code",
   "execution_count": 34,
   "id": "c17d16c6",
   "metadata": {
    "execution": {
     "iopub.execute_input": "2024-08-15T21:07:28.533056Z",
     "iopub.status.busy": "2024-08-15T21:07:28.532143Z",
     "iopub.status.idle": "2024-08-15T21:07:28.540107Z",
     "shell.execute_reply": "2024-08-15T21:07:28.538850Z"
    },
    "papermill": {
     "duration": 0.03292,
     "end_time": "2024-08-15T21:07:28.542839",
     "exception": false,
     "start_time": "2024-08-15T21:07:28.509919",
     "status": "completed"
    },
    "tags": []
   },
   "outputs": [],
   "source": [
    "X = new_data.drop('Class', axis = 1)\n",
    "y= new_data['Class']"
   ]
  },
  {
   "cell_type": "code",
   "execution_count": 35,
   "id": "b443971e",
   "metadata": {
    "execution": {
     "iopub.execute_input": "2024-08-15T21:07:28.591354Z",
     "iopub.status.busy": "2024-08-15T21:07:28.590960Z",
     "iopub.status.idle": "2024-08-15T21:07:28.600237Z",
     "shell.execute_reply": "2024-08-15T21:07:28.599197Z"
    },
    "papermill": {
     "duration": 0.033623,
     "end_time": "2024-08-15T21:07:28.602791",
     "exception": false,
     "start_time": "2024-08-15T21:07:28.569168",
     "status": "completed"
    },
    "tags": []
   },
   "outputs": [],
   "source": [
    "X_train, X_test, y_train, y_test = train_test_split(X, y, test_size = 0.2, random_state = 42)"
   ]
  },
  {
   "cell_type": "code",
   "execution_count": 36,
   "id": "18896b47",
   "metadata": {
    "execution": {
     "iopub.execute_input": "2024-08-15T21:07:28.652746Z",
     "iopub.status.busy": "2024-08-15T21:07:28.651885Z",
     "iopub.status.idle": "2024-08-15T21:07:28.758158Z",
     "shell.execute_reply": "2024-08-15T21:07:28.756897Z"
    },
    "papermill": {
     "duration": 0.145676,
     "end_time": "2024-08-15T21:07:28.768867",
     "exception": false,
     "start_time": "2024-08-15T21:07:28.623191",
     "status": "completed"
    },
    "tags": []
   },
   "outputs": [
    {
     "name": "stdout",
     "output_type": "stream",
     "text": [
      "\n",
      "==========Logistic Regression===========\n",
      "\n",
      " Accuaracy: 0.9315789473684211\n",
      "\n",
      " Precision: 0.9587628865979382\n",
      "\n",
      " Recall: 0.9117647058823529\n",
      "\n",
      " F1 Score: 0.9346733668341709\n",
      "\n",
      "==========Decision Tree Classifier===========\n",
      "\n",
      " Accuaracy: 0.9105263157894737\n",
      "\n",
      " Precision: 0.9207920792079208\n",
      "\n",
      " Recall: 0.9117647058823529\n",
      "\n",
      " F1 Score: 0.9162561576354681\n"
     ]
    }
   ],
   "source": [
    "classifier = {\n",
    "    \"Logistic Regression\": LogisticRegression(),\n",
    "    \"Decision Tree Classifier\": DecisionTreeClassifier()\n",
    "}\n",
    "\n",
    "for modelName, clf in classifier.items():\n",
    "    print(f\"\\n=========={modelName}===========\")\n",
    "    clf.fit(X_train, y_train)\n",
    "    y_pred = clf.predict(X_test)\n",
    "    print(f\"\\n Accuaracy: {accuracy_score(y_test, y_pred)}\")\n",
    "    print(f\"\\n Precision: {precision_score(y_test, y_pred)}\")\n",
    "    print(f\"\\n Recall: {recall_score(y_test, y_pred)}\")\n",
    "    print(f\"\\n F1 Score: {f1_score(y_test, y_pred)}\")"
   ]
  },
  {
   "cell_type": "code",
   "execution_count": 37,
   "id": "dff0e19f",
   "metadata": {
    "execution": {
     "iopub.execute_input": "2024-08-15T21:07:28.840599Z",
     "iopub.status.busy": "2024-08-15T21:07:28.840076Z",
     "iopub.status.idle": "2024-08-15T21:07:28.870330Z",
     "shell.execute_reply": "2024-08-15T21:07:28.869131Z"
    },
    "papermill": {
     "duration": 0.061166,
     "end_time": "2024-08-15T21:07:28.873155",
     "exception": false,
     "start_time": "2024-08-15T21:07:28.811989",
     "status": "completed"
    },
    "tags": []
   },
   "outputs": [],
   "source": [
    "X = data.drop('Class', axis = 1)\n",
    "y= data['Class']"
   ]
  },
  {
   "cell_type": "code",
   "execution_count": 38,
   "id": "bb2eefa1",
   "metadata": {
    "execution": {
     "iopub.execute_input": "2024-08-15T21:07:28.917114Z",
     "iopub.status.busy": "2024-08-15T21:07:28.916696Z",
     "iopub.status.idle": "2024-08-15T21:07:28.923840Z",
     "shell.execute_reply": "2024-08-15T21:07:28.922663Z"
    },
    "papermill": {
     "duration": 0.03152,
     "end_time": "2024-08-15T21:07:28.926283",
     "exception": false,
     "start_time": "2024-08-15T21:07:28.894763",
     "status": "completed"
    },
    "tags": []
   },
   "outputs": [
    {
     "data": {
      "text/plain": [
       "(275663, 29)"
      ]
     },
     "execution_count": 38,
     "metadata": {},
     "output_type": "execute_result"
    }
   ],
   "source": [
    "X.shape\n"
   ]
  },
  {
   "cell_type": "code",
   "execution_count": 39,
   "id": "9c5f3b12",
   "metadata": {
    "execution": {
     "iopub.execute_input": "2024-08-15T21:07:28.970755Z",
     "iopub.status.busy": "2024-08-15T21:07:28.970323Z",
     "iopub.status.idle": "2024-08-15T21:07:28.977931Z",
     "shell.execute_reply": "2024-08-15T21:07:28.976712Z"
    },
    "papermill": {
     "duration": 0.032465,
     "end_time": "2024-08-15T21:07:28.980406",
     "exception": false,
     "start_time": "2024-08-15T21:07:28.947941",
     "status": "completed"
    },
    "tags": []
   },
   "outputs": [
    {
     "data": {
      "text/plain": [
       "(275663,)"
      ]
     },
     "execution_count": 39,
     "metadata": {},
     "output_type": "execute_result"
    }
   ],
   "source": [
    "y.shape"
   ]
  },
  {
   "cell_type": "code",
   "execution_count": 40,
   "id": "c7598181",
   "metadata": {
    "execution": {
     "iopub.execute_input": "2024-08-15T21:07:29.024972Z",
     "iopub.status.busy": "2024-08-15T21:07:29.024548Z",
     "iopub.status.idle": "2024-08-15T21:07:29.167163Z",
     "shell.execute_reply": "2024-08-15T21:07:29.166045Z"
    },
    "papermill": {
     "duration": 0.168205,
     "end_time": "2024-08-15T21:07:29.170034",
     "exception": false,
     "start_time": "2024-08-15T21:07:29.001829",
     "status": "completed"
    },
    "tags": []
   },
   "outputs": [],
   "source": [
    "from imblearn.over_sampling import SMOTE"
   ]
  },
  {
   "cell_type": "code",
   "execution_count": 41,
   "id": "5b684e22",
   "metadata": {
    "execution": {
     "iopub.execute_input": "2024-08-15T21:07:29.213723Z",
     "iopub.status.busy": "2024-08-15T21:07:29.213070Z",
     "iopub.status.idle": "2024-08-15T21:07:29.807767Z",
     "shell.execute_reply": "2024-08-15T21:07:29.806573Z"
    },
    "papermill": {
     "duration": 0.619737,
     "end_time": "2024-08-15T21:07:29.810632",
     "exception": false,
     "start_time": "2024-08-15T21:07:29.190895",
     "status": "completed"
    },
    "tags": []
   },
   "outputs": [],
   "source": [
    "X_res, y_res = SMOTE().fit_resample(X,y)"
   ]
  },
  {
   "cell_type": "code",
   "execution_count": 42,
   "id": "40abc1a8",
   "metadata": {
    "execution": {
     "iopub.execute_input": "2024-08-15T21:07:29.856202Z",
     "iopub.status.busy": "2024-08-15T21:07:29.855446Z",
     "iopub.status.idle": "2024-08-15T21:07:29.870284Z",
     "shell.execute_reply": "2024-08-15T21:07:29.869132Z"
    },
    "papermill": {
     "duration": 0.040597,
     "end_time": "2024-08-15T21:07:29.872830",
     "exception": false,
     "start_time": "2024-08-15T21:07:29.832233",
     "status": "completed"
    },
    "tags": []
   },
   "outputs": [
    {
     "data": {
      "text/plain": [
       "Class\n",
       "0    275190\n",
       "1    275190\n",
       "Name: count, dtype: int64"
      ]
     },
     "execution_count": 42,
     "metadata": {},
     "output_type": "execute_result"
    }
   ],
   "source": [
    "y_res.value_counts()"
   ]
  },
  {
   "cell_type": "code",
   "execution_count": 43,
   "id": "61089881",
   "metadata": {
    "execution": {
     "iopub.execute_input": "2024-08-15T21:07:29.916593Z",
     "iopub.status.busy": "2024-08-15T21:07:29.916163Z",
     "iopub.status.idle": "2024-08-15T21:07:30.247850Z",
     "shell.execute_reply": "2024-08-15T21:07:30.246598Z"
    },
    "papermill": {
     "duration": 0.356847,
     "end_time": "2024-08-15T21:07:30.250647",
     "exception": false,
     "start_time": "2024-08-15T21:07:29.893800",
     "status": "completed"
    },
    "tags": []
   },
   "outputs": [],
   "source": [
    "X_train, X_test, y_train, y_test = train_test_split(X_res, y_res, test_size = 0.2, random_state = 42)"
   ]
  },
  {
   "cell_type": "code",
   "execution_count": 44,
   "id": "eb6a7bea",
   "metadata": {
    "execution": {
     "iopub.execute_input": "2024-08-15T21:07:30.295133Z",
     "iopub.status.busy": "2024-08-15T21:07:30.294111Z",
     "iopub.status.idle": "2024-08-15T21:08:26.490435Z",
     "shell.execute_reply": "2024-08-15T21:08:26.489246Z"
    },
    "papermill": {
     "duration": 56.242519,
     "end_time": "2024-08-15T21:08:26.514310",
     "exception": false,
     "start_time": "2024-08-15T21:07:30.271791",
     "status": "completed"
    },
    "tags": []
   },
   "outputs": [
    {
     "name": "stdout",
     "output_type": "stream",
     "text": [
      "\n",
      "==========Logistic Regression===========\n",
      "\n",
      " Accuaracy: 0.9449017042770449\n",
      "\n",
      " Precision: 0.9728309178743961\n",
      "\n",
      " Recall: 0.9152955293347635\n",
      "\n",
      " F1 Score: 0.9431866083388757\n",
      "\n",
      "==========Decision Tree Classifier===========\n",
      "\n",
      " Accuaracy: 0.9982012427777173\n",
      "\n",
      " Precision: 0.9975307297056848\n",
      "\n",
      " Recall: 0.9988727887569769\n",
      "\n",
      " F1 Score: 0.998201308139535\n"
     ]
    }
   ],
   "source": [
    "classifier = {\n",
    "    \"Logistic Regression\": LogisticRegression(),\n",
    "    \"Decision Tree Classifier\": DecisionTreeClassifier(), \n",
    "}\n",
    "\n",
    "for name, clf in classifier.items():\n",
    "    print(f\"\\n=========={name}===========\")\n",
    "    clf.fit(X_train, y_train)\n",
    "    y_pred = clf.predict(X_test)\n",
    "    print(f\"\\n Accuaracy: {accuracy_score(y_test, y_pred)}\")\n",
    "    print(f\"\\n Precision: {precision_score(y_test, y_pred)}\")\n",
    "    print(f\"\\n Recall: {recall_score(y_test, y_pred)}\")\n",
    "    print(f\"\\n F1 Score: {f1_score(y_test, y_pred)}\")"
   ]
  },
  {
   "cell_type": "code",
   "execution_count": 45,
   "id": "b4f28d71",
   "metadata": {
    "execution": {
     "iopub.execute_input": "2024-08-15T21:08:26.558440Z",
     "iopub.status.busy": "2024-08-15T21:08:26.558061Z",
     "iopub.status.idle": "2024-08-15T21:09:25.644886Z",
     "shell.execute_reply": "2024-08-15T21:09:25.643596Z"
    },
    "papermill": {
     "duration": 59.133308,
     "end_time": "2024-08-15T21:09:25.668765",
     "exception": false,
     "start_time": "2024-08-15T21:08:26.535457",
     "status": "completed"
    },
    "tags": []
   },
   "outputs": [
    {
     "data": {
      "text/html": [
       "<style>#sk-container-id-1 {color: black;background-color: white;}#sk-container-id-1 pre{padding: 0;}#sk-container-id-1 div.sk-toggleable {background-color: white;}#sk-container-id-1 label.sk-toggleable__label {cursor: pointer;display: block;width: 100%;margin-bottom: 0;padding: 0.3em;box-sizing: border-box;text-align: center;}#sk-container-id-1 label.sk-toggleable__label-arrow:before {content: \"▸\";float: left;margin-right: 0.25em;color: #696969;}#sk-container-id-1 label.sk-toggleable__label-arrow:hover:before {color: black;}#sk-container-id-1 div.sk-estimator:hover label.sk-toggleable__label-arrow:before {color: black;}#sk-container-id-1 div.sk-toggleable__content {max-height: 0;max-width: 0;overflow: hidden;text-align: left;background-color: #f0f8ff;}#sk-container-id-1 div.sk-toggleable__content pre {margin: 0.2em;color: black;border-radius: 0.25em;background-color: #f0f8ff;}#sk-container-id-1 input.sk-toggleable__control:checked~div.sk-toggleable__content {max-height: 200px;max-width: 100%;overflow: auto;}#sk-container-id-1 input.sk-toggleable__control:checked~label.sk-toggleable__label-arrow:before {content: \"▾\";}#sk-container-id-1 div.sk-estimator input.sk-toggleable__control:checked~label.sk-toggleable__label {background-color: #d4ebff;}#sk-container-id-1 div.sk-label input.sk-toggleable__control:checked~label.sk-toggleable__label {background-color: #d4ebff;}#sk-container-id-1 input.sk-hidden--visually {border: 0;clip: rect(1px 1px 1px 1px);clip: rect(1px, 1px, 1px, 1px);height: 1px;margin: -1px;overflow: hidden;padding: 0;position: absolute;width: 1px;}#sk-container-id-1 div.sk-estimator {font-family: monospace;background-color: #f0f8ff;border: 1px dotted black;border-radius: 0.25em;box-sizing: border-box;margin-bottom: 0.5em;}#sk-container-id-1 div.sk-estimator:hover {background-color: #d4ebff;}#sk-container-id-1 div.sk-parallel-item::after {content: \"\";width: 100%;border-bottom: 1px solid gray;flex-grow: 1;}#sk-container-id-1 div.sk-label:hover label.sk-toggleable__label {background-color: #d4ebff;}#sk-container-id-1 div.sk-serial::before {content: \"\";position: absolute;border-left: 1px solid gray;box-sizing: border-box;top: 0;bottom: 0;left: 50%;z-index: 0;}#sk-container-id-1 div.sk-serial {display: flex;flex-direction: column;align-items: center;background-color: white;padding-right: 0.2em;padding-left: 0.2em;position: relative;}#sk-container-id-1 div.sk-item {position: relative;z-index: 1;}#sk-container-id-1 div.sk-parallel {display: flex;align-items: stretch;justify-content: center;background-color: white;position: relative;}#sk-container-id-1 div.sk-item::before, #sk-container-id-1 div.sk-parallel-item::before {content: \"\";position: absolute;border-left: 1px solid gray;box-sizing: border-box;top: 0;bottom: 0;left: 50%;z-index: -1;}#sk-container-id-1 div.sk-parallel-item {display: flex;flex-direction: column;z-index: 1;position: relative;background-color: white;}#sk-container-id-1 div.sk-parallel-item:first-child::after {align-self: flex-end;width: 50%;}#sk-container-id-1 div.sk-parallel-item:last-child::after {align-self: flex-start;width: 50%;}#sk-container-id-1 div.sk-parallel-item:only-child::after {width: 0;}#sk-container-id-1 div.sk-dashed-wrapped {border: 1px dashed gray;margin: 0 0.4em 0.5em 0.4em;box-sizing: border-box;padding-bottom: 0.4em;background-color: white;}#sk-container-id-1 div.sk-label label {font-family: monospace;font-weight: bold;display: inline-block;line-height: 1.2em;}#sk-container-id-1 div.sk-label-container {text-align: center;}#sk-container-id-1 div.sk-container {/* jupyter's `normalize.less` sets `[hidden] { display: none; }` but bootstrap.min.css set `[hidden] { display: none !important; }` so we also need the `!important` here to be able to override the default hidden behavior on the sphinx rendered scikit-learn.org. See: https://github.com/scikit-learn/scikit-learn/issues/21755 */display: inline-block !important;position: relative;}#sk-container-id-1 div.sk-text-repr-fallback {display: none;}</style><div id=\"sk-container-id-1\" class=\"sk-top-container\"><div class=\"sk-text-repr-fallback\"><pre>DecisionTreeClassifier()</pre><b>In a Jupyter environment, please rerun this cell to show the HTML representation or trust the notebook. <br />On GitHub, the HTML representation is unable to render, please try loading this page with nbviewer.org.</b></div><div class=\"sk-container\" hidden><div class=\"sk-item\"><div class=\"sk-estimator sk-toggleable\"><input class=\"sk-toggleable__control sk-hidden--visually\" id=\"sk-estimator-id-1\" type=\"checkbox\" checked><label for=\"sk-estimator-id-1\" class=\"sk-toggleable__label sk-toggleable__label-arrow\">DecisionTreeClassifier</label><div class=\"sk-toggleable__content\"><pre>DecisionTreeClassifier()</pre></div></div></div></div></div>"
      ],
      "text/plain": [
       "DecisionTreeClassifier()"
      ]
     },
     "execution_count": 45,
     "metadata": {},
     "output_type": "execute_result"
    }
   ],
   "source": [
    "dtc = DecisionTreeClassifier()\n",
    "dtc.fit(X_res, y_res)"
   ]
  },
  {
   "cell_type": "code",
   "execution_count": 46,
   "id": "7cf1d6f6",
   "metadata": {
    "execution": {
     "iopub.execute_input": "2024-08-15T21:09:25.713987Z",
     "iopub.status.busy": "2024-08-15T21:09:25.713041Z",
     "iopub.status.idle": "2024-08-15T21:09:25.718068Z",
     "shell.execute_reply": "2024-08-15T21:09:25.716967Z"
    },
    "papermill": {
     "duration": 0.029986,
     "end_time": "2024-08-15T21:09:25.720308",
     "exception": false,
     "start_time": "2024-08-15T21:09:25.690322",
     "status": "completed"
    },
    "tags": []
   },
   "outputs": [],
   "source": [
    "    import joblib"
   ]
  },
  {
   "cell_type": "code",
   "execution_count": 47,
   "id": "1d1b2473",
   "metadata": {
    "execution": {
     "iopub.execute_input": "2024-08-15T21:09:25.764970Z",
     "iopub.status.busy": "2024-08-15T21:09:25.764555Z",
     "iopub.status.idle": "2024-08-15T21:09:25.774609Z",
     "shell.execute_reply": "2024-08-15T21:09:25.773475Z"
    },
    "papermill": {
     "duration": 0.035284,
     "end_time": "2024-08-15T21:09:25.777007",
     "exception": false,
     "start_time": "2024-08-15T21:09:25.741723",
     "status": "completed"
    },
    "tags": []
   },
   "outputs": [
    {
     "data": {
      "text/plain": [
       "['creditCcardModel.pkl']"
      ]
     },
     "execution_count": 47,
     "metadata": {},
     "output_type": "execute_result"
    }
   ],
   "source": [
    "joblib.dump(dtc, \"creditCcardModel.pkl\")\n"
   ]
  },
  {
   "cell_type": "code",
   "execution_count": 48,
   "id": "f3bab940",
   "metadata": {
    "execution": {
     "iopub.execute_input": "2024-08-15T21:09:25.822553Z",
     "iopub.status.busy": "2024-08-15T21:09:25.822103Z",
     "iopub.status.idle": "2024-08-15T21:09:25.829690Z",
     "shell.execute_reply": "2024-08-15T21:09:25.828565Z"
    },
    "papermill": {
     "duration": 0.033329,
     "end_time": "2024-08-15T21:09:25.832141",
     "exception": false,
     "start_time": "2024-08-15T21:09:25.798812",
     "status": "completed"
    },
    "tags": []
   },
   "outputs": [],
   "source": [
    "model = joblib.load(\"creditCcardModel.pkl\")"
   ]
  },
  {
   "cell_type": "code",
   "execution_count": 49,
   "id": "e95dc372",
   "metadata": {
    "execution": {
     "iopub.execute_input": "2024-08-15T21:09:25.877303Z",
     "iopub.status.busy": "2024-08-15T21:09:25.876920Z",
     "iopub.status.idle": "2024-08-15T21:09:25.884794Z",
     "shell.execute_reply": "2024-08-15T21:09:25.883735Z"
    },
    "papermill": {
     "duration": 0.033264,
     "end_time": "2024-08-15T21:09:25.887045",
     "exception": false,
     "start_time": "2024-08-15T21:09:25.853781",
     "status": "completed"
    },
    "tags": []
   },
   "outputs": [
    {
     "data": {
      "text/html": [
       "<style>#sk-container-id-2 {color: black;background-color: white;}#sk-container-id-2 pre{padding: 0;}#sk-container-id-2 div.sk-toggleable {background-color: white;}#sk-container-id-2 label.sk-toggleable__label {cursor: pointer;display: block;width: 100%;margin-bottom: 0;padding: 0.3em;box-sizing: border-box;text-align: center;}#sk-container-id-2 label.sk-toggleable__label-arrow:before {content: \"▸\";float: left;margin-right: 0.25em;color: #696969;}#sk-container-id-2 label.sk-toggleable__label-arrow:hover:before {color: black;}#sk-container-id-2 div.sk-estimator:hover label.sk-toggleable__label-arrow:before {color: black;}#sk-container-id-2 div.sk-toggleable__content {max-height: 0;max-width: 0;overflow: hidden;text-align: left;background-color: #f0f8ff;}#sk-container-id-2 div.sk-toggleable__content pre {margin: 0.2em;color: black;border-radius: 0.25em;background-color: #f0f8ff;}#sk-container-id-2 input.sk-toggleable__control:checked~div.sk-toggleable__content {max-height: 200px;max-width: 100%;overflow: auto;}#sk-container-id-2 input.sk-toggleable__control:checked~label.sk-toggleable__label-arrow:before {content: \"▾\";}#sk-container-id-2 div.sk-estimator input.sk-toggleable__control:checked~label.sk-toggleable__label {background-color: #d4ebff;}#sk-container-id-2 div.sk-label input.sk-toggleable__control:checked~label.sk-toggleable__label {background-color: #d4ebff;}#sk-container-id-2 input.sk-hidden--visually {border: 0;clip: rect(1px 1px 1px 1px);clip: rect(1px, 1px, 1px, 1px);height: 1px;margin: -1px;overflow: hidden;padding: 0;position: absolute;width: 1px;}#sk-container-id-2 div.sk-estimator {font-family: monospace;background-color: #f0f8ff;border: 1px dotted black;border-radius: 0.25em;box-sizing: border-box;margin-bottom: 0.5em;}#sk-container-id-2 div.sk-estimator:hover {background-color: #d4ebff;}#sk-container-id-2 div.sk-parallel-item::after {content: \"\";width: 100%;border-bottom: 1px solid gray;flex-grow: 1;}#sk-container-id-2 div.sk-label:hover label.sk-toggleable__label {background-color: #d4ebff;}#sk-container-id-2 div.sk-serial::before {content: \"\";position: absolute;border-left: 1px solid gray;box-sizing: border-box;top: 0;bottom: 0;left: 50%;z-index: 0;}#sk-container-id-2 div.sk-serial {display: flex;flex-direction: column;align-items: center;background-color: white;padding-right: 0.2em;padding-left: 0.2em;position: relative;}#sk-container-id-2 div.sk-item {position: relative;z-index: 1;}#sk-container-id-2 div.sk-parallel {display: flex;align-items: stretch;justify-content: center;background-color: white;position: relative;}#sk-container-id-2 div.sk-item::before, #sk-container-id-2 div.sk-parallel-item::before {content: \"\";position: absolute;border-left: 1px solid gray;box-sizing: border-box;top: 0;bottom: 0;left: 50%;z-index: -1;}#sk-container-id-2 div.sk-parallel-item {display: flex;flex-direction: column;z-index: 1;position: relative;background-color: white;}#sk-container-id-2 div.sk-parallel-item:first-child::after {align-self: flex-end;width: 50%;}#sk-container-id-2 div.sk-parallel-item:last-child::after {align-self: flex-start;width: 50%;}#sk-container-id-2 div.sk-parallel-item:only-child::after {width: 0;}#sk-container-id-2 div.sk-dashed-wrapped {border: 1px dashed gray;margin: 0 0.4em 0.5em 0.4em;box-sizing: border-box;padding-bottom: 0.4em;background-color: white;}#sk-container-id-2 div.sk-label label {font-family: monospace;font-weight: bold;display: inline-block;line-height: 1.2em;}#sk-container-id-2 div.sk-label-container {text-align: center;}#sk-container-id-2 div.sk-container {/* jupyter's `normalize.less` sets `[hidden] { display: none; }` but bootstrap.min.css set `[hidden] { display: none !important; }` so we also need the `!important` here to be able to override the default hidden behavior on the sphinx rendered scikit-learn.org. See: https://github.com/scikit-learn/scikit-learn/issues/21755 */display: inline-block !important;position: relative;}#sk-container-id-2 div.sk-text-repr-fallback {display: none;}</style><div id=\"sk-container-id-2\" class=\"sk-top-container\"><div class=\"sk-text-repr-fallback\"><pre>DecisionTreeClassifier()</pre><b>In a Jupyter environment, please rerun this cell to show the HTML representation or trust the notebook. <br />On GitHub, the HTML representation is unable to render, please try loading this page with nbviewer.org.</b></div><div class=\"sk-container\" hidden><div class=\"sk-item\"><div class=\"sk-estimator sk-toggleable\"><input class=\"sk-toggleable__control sk-hidden--visually\" id=\"sk-estimator-id-2\" type=\"checkbox\" checked><label for=\"sk-estimator-id-2\" class=\"sk-toggleable__label sk-toggleable__label-arrow\">DecisionTreeClassifier</label><div class=\"sk-toggleable__content\"><pre>DecisionTreeClassifier()</pre></div></div></div></div></div>"
      ],
      "text/plain": [
       "DecisionTreeClassifier()"
      ]
     },
     "execution_count": 49,
     "metadata": {},
     "output_type": "execute_result"
    }
   ],
   "source": [
    "model"
   ]
  },
  {
   "cell_type": "code",
   "execution_count": null,
   "id": "f799ff5c",
   "metadata": {
    "papermill": {
     "duration": 0.021832,
     "end_time": "2024-08-15T21:09:25.931063",
     "exception": false,
     "start_time": "2024-08-15T21:09:25.909231",
     "status": "completed"
    },
    "tags": []
   },
   "outputs": [],
   "source": []
  }
 ],
 "metadata": {
  "kaggle": {
   "accelerator": "none",
   "dataSources": [
    {
     "datasetId": 310,
     "sourceId": 23498,
     "sourceType": "datasetVersion"
    }
   ],
   "dockerImageVersionId": 30746,
   "isGpuEnabled": false,
   "isInternetEnabled": true,
   "language": "python",
   "sourceType": "notebook"
  },
  "kernelspec": {
   "display_name": "Python 3",
   "language": "python",
   "name": "python3"
  },
  "language_info": {
   "codemirror_mode": {
    "name": "ipython",
    "version": 3
   },
   "file_extension": ".py",
   "mimetype": "text/x-python",
   "name": "python",
   "nbconvert_exporter": "python",
   "pygments_lexer": "ipython3",
   "version": "3.10.13"
  },
  "papermill": {
   "default_parameters": {},
   "duration": 147.234424,
   "end_time": "2024-08-15T21:09:26.675983",
   "environment_variables": {},
   "exception": null,
   "input_path": "__notebook__.ipynb",
   "output_path": "__notebook__.ipynb",
   "parameters": {},
   "start_time": "2024-08-15T21:06:59.441559",
   "version": "2.5.0"
  }
 },
 "nbformat": 4,
 "nbformat_minor": 5
}
